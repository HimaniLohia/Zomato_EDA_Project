{
 "cells": [
  {
   "cell_type": "code",
   "execution_count": 1,
   "id": "2866fe80-6b99-4f20-b015-d7052d959a8b",
   "metadata": {},
   "outputs": [],
   "source": [
    "import numpy as np\n",
    "\n",
    "import pandas as pd\n",
    "\n",
    "import matplotlib.pyplot as plt\n",
    "\n",
    "import seaborn as sns\n",
    "\n",
    "#pip install matplotlib"
   ]
  },
  {
   "cell_type": "code",
   "execution_count": 2,
   "id": "2def81af-191c-455b-b958-e4bb968cd1fb",
   "metadata": {},
   "outputs": [
    {
     "data": {
      "text/plain": [
       "'2.2.2'"
      ]
     },
     "execution_count": 2,
     "metadata": {},
     "output_type": "execute_result"
    }
   ],
   "source": [
    "pd.__version__"
   ]
  },
  {
   "cell_type": "code",
   "execution_count": 3,
   "id": "cc8458cd-82dd-449e-a48f-8966b4b911c0",
   "metadata": {},
   "outputs": [],
   "source": [
    "df_zomato = pd.read_csv('zomato.csv', encoding= 'latin1')\n",
    "\n",
    "df_countryCode = pd.read_excel('country-code.xlsx')"
   ]
  },
  {
   "cell_type": "code",
   "execution_count": 4,
   "id": "ce1f84c6-16c3-43c3-aaf0-80a5659d0195",
   "metadata": {},
   "outputs": [
    {
     "data": {
      "text/html": [
       "<div>\n",
       "<style scoped>\n",
       "    .dataframe tbody tr th:only-of-type {\n",
       "        vertical-align: middle;\n",
       "    }\n",
       "\n",
       "    .dataframe tbody tr th {\n",
       "        vertical-align: top;\n",
       "    }\n",
       "\n",
       "    .dataframe thead th {\n",
       "        text-align: right;\n",
       "    }\n",
       "</style>\n",
       "<table border=\"1\" class=\"dataframe\">\n",
       "  <thead>\n",
       "    <tr style=\"text-align: right;\">\n",
       "      <th></th>\n",
       "      <th>Restaurant ID</th>\n",
       "      <th>Restaurant Name</th>\n",
       "      <th>Country Code</th>\n",
       "      <th>City</th>\n",
       "      <th>Address</th>\n",
       "      <th>Locality</th>\n",
       "      <th>Locality Verbose</th>\n",
       "      <th>Longitude</th>\n",
       "      <th>Latitude</th>\n",
       "      <th>Cuisines</th>\n",
       "      <th>...</th>\n",
       "      <th>Currency</th>\n",
       "      <th>Has Table booking</th>\n",
       "      <th>Has Online delivery</th>\n",
       "      <th>Is delivering now</th>\n",
       "      <th>Switch to order menu</th>\n",
       "      <th>Price range</th>\n",
       "      <th>Aggregate rating</th>\n",
       "      <th>Rating color</th>\n",
       "      <th>Rating text</th>\n",
       "      <th>Votes</th>\n",
       "    </tr>\n",
       "  </thead>\n",
       "  <tbody>\n",
       "    <tr>\n",
       "      <th>0</th>\n",
       "      <td>6317637</td>\n",
       "      <td>Le Petit Souffle</td>\n",
       "      <td>162</td>\n",
       "      <td>Makati City</td>\n",
       "      <td>Third Floor, Century City Mall, Kalayaan Avenu...</td>\n",
       "      <td>Century City Mall, Poblacion, Makati City</td>\n",
       "      <td>Century City Mall, Poblacion, Makati City, Mak...</td>\n",
       "      <td>121.027535</td>\n",
       "      <td>14.565443</td>\n",
       "      <td>French, Japanese, Desserts</td>\n",
       "      <td>...</td>\n",
       "      <td>Botswana Pula(P)</td>\n",
       "      <td>Yes</td>\n",
       "      <td>No</td>\n",
       "      <td>No</td>\n",
       "      <td>No</td>\n",
       "      <td>3</td>\n",
       "      <td>4.8</td>\n",
       "      <td>Dark Green</td>\n",
       "      <td>Excellent</td>\n",
       "      <td>314</td>\n",
       "    </tr>\n",
       "    <tr>\n",
       "      <th>1</th>\n",
       "      <td>6304287</td>\n",
       "      <td>Izakaya Kikufuji</td>\n",
       "      <td>162</td>\n",
       "      <td>Makati City</td>\n",
       "      <td>Little Tokyo, 2277 Chino Roces Avenue, Legaspi...</td>\n",
       "      <td>Little Tokyo, Legaspi Village, Makati City</td>\n",
       "      <td>Little Tokyo, Legaspi Village, Makati City, Ma...</td>\n",
       "      <td>121.014101</td>\n",
       "      <td>14.553708</td>\n",
       "      <td>Japanese</td>\n",
       "      <td>...</td>\n",
       "      <td>Botswana Pula(P)</td>\n",
       "      <td>Yes</td>\n",
       "      <td>No</td>\n",
       "      <td>No</td>\n",
       "      <td>No</td>\n",
       "      <td>3</td>\n",
       "      <td>4.5</td>\n",
       "      <td>Dark Green</td>\n",
       "      <td>Excellent</td>\n",
       "      <td>591</td>\n",
       "    </tr>\n",
       "    <tr>\n",
       "      <th>2</th>\n",
       "      <td>6300002</td>\n",
       "      <td>Heat - Edsa Shangri-La</td>\n",
       "      <td>162</td>\n",
       "      <td>Mandaluyong City</td>\n",
       "      <td>Edsa Shangri-La, 1 Garden Way, Ortigas, Mandal...</td>\n",
       "      <td>Edsa Shangri-La, Ortigas, Mandaluyong City</td>\n",
       "      <td>Edsa Shangri-La, Ortigas, Mandaluyong City, Ma...</td>\n",
       "      <td>121.056831</td>\n",
       "      <td>14.581404</td>\n",
       "      <td>Seafood, Asian, Filipino, Indian</td>\n",
       "      <td>...</td>\n",
       "      <td>Botswana Pula(P)</td>\n",
       "      <td>Yes</td>\n",
       "      <td>No</td>\n",
       "      <td>No</td>\n",
       "      <td>No</td>\n",
       "      <td>4</td>\n",
       "      <td>4.4</td>\n",
       "      <td>Green</td>\n",
       "      <td>Very Good</td>\n",
       "      <td>270</td>\n",
       "    </tr>\n",
       "    <tr>\n",
       "      <th>3</th>\n",
       "      <td>6318506</td>\n",
       "      <td>Ooma</td>\n",
       "      <td>162</td>\n",
       "      <td>Mandaluyong City</td>\n",
       "      <td>Third Floor, Mega Fashion Hall, SM Megamall, O...</td>\n",
       "      <td>SM Megamall, Ortigas, Mandaluyong City</td>\n",
       "      <td>SM Megamall, Ortigas, Mandaluyong City, Mandal...</td>\n",
       "      <td>121.056475</td>\n",
       "      <td>14.585318</td>\n",
       "      <td>Japanese, Sushi</td>\n",
       "      <td>...</td>\n",
       "      <td>Botswana Pula(P)</td>\n",
       "      <td>No</td>\n",
       "      <td>No</td>\n",
       "      <td>No</td>\n",
       "      <td>No</td>\n",
       "      <td>4</td>\n",
       "      <td>4.9</td>\n",
       "      <td>Dark Green</td>\n",
       "      <td>Excellent</td>\n",
       "      <td>365</td>\n",
       "    </tr>\n",
       "    <tr>\n",
       "      <th>4</th>\n",
       "      <td>6314302</td>\n",
       "      <td>Sambo Kojin</td>\n",
       "      <td>162</td>\n",
       "      <td>Mandaluyong City</td>\n",
       "      <td>Third Floor, Mega Atrium, SM Megamall, Ortigas...</td>\n",
       "      <td>SM Megamall, Ortigas, Mandaluyong City</td>\n",
       "      <td>SM Megamall, Ortigas, Mandaluyong City, Mandal...</td>\n",
       "      <td>121.057508</td>\n",
       "      <td>14.584450</td>\n",
       "      <td>Japanese, Korean</td>\n",
       "      <td>...</td>\n",
       "      <td>Botswana Pula(P)</td>\n",
       "      <td>Yes</td>\n",
       "      <td>No</td>\n",
       "      <td>No</td>\n",
       "      <td>No</td>\n",
       "      <td>4</td>\n",
       "      <td>4.8</td>\n",
       "      <td>Dark Green</td>\n",
       "      <td>Excellent</td>\n",
       "      <td>229</td>\n",
       "    </tr>\n",
       "  </tbody>\n",
       "</table>\n",
       "<p>5 rows × 21 columns</p>\n",
       "</div>"
      ],
      "text/plain": [
       "   Restaurant ID         Restaurant Name  Country Code              City  \\\n",
       "0        6317637        Le Petit Souffle           162       Makati City   \n",
       "1        6304287        Izakaya Kikufuji           162       Makati City   \n",
       "2        6300002  Heat - Edsa Shangri-La           162  Mandaluyong City   \n",
       "3        6318506                    Ooma           162  Mandaluyong City   \n",
       "4        6314302             Sambo Kojin           162  Mandaluyong City   \n",
       "\n",
       "                                             Address  \\\n",
       "0  Third Floor, Century City Mall, Kalayaan Avenu...   \n",
       "1  Little Tokyo, 2277 Chino Roces Avenue, Legaspi...   \n",
       "2  Edsa Shangri-La, 1 Garden Way, Ortigas, Mandal...   \n",
       "3  Third Floor, Mega Fashion Hall, SM Megamall, O...   \n",
       "4  Third Floor, Mega Atrium, SM Megamall, Ortigas...   \n",
       "\n",
       "                                     Locality  \\\n",
       "0   Century City Mall, Poblacion, Makati City   \n",
       "1  Little Tokyo, Legaspi Village, Makati City   \n",
       "2  Edsa Shangri-La, Ortigas, Mandaluyong City   \n",
       "3      SM Megamall, Ortigas, Mandaluyong City   \n",
       "4      SM Megamall, Ortigas, Mandaluyong City   \n",
       "\n",
       "                                    Locality Verbose   Longitude   Latitude  \\\n",
       "0  Century City Mall, Poblacion, Makati City, Mak...  121.027535  14.565443   \n",
       "1  Little Tokyo, Legaspi Village, Makati City, Ma...  121.014101  14.553708   \n",
       "2  Edsa Shangri-La, Ortigas, Mandaluyong City, Ma...  121.056831  14.581404   \n",
       "3  SM Megamall, Ortigas, Mandaluyong City, Mandal...  121.056475  14.585318   \n",
       "4  SM Megamall, Ortigas, Mandaluyong City, Mandal...  121.057508  14.584450   \n",
       "\n",
       "                           Cuisines  ...          Currency Has Table booking  \\\n",
       "0        French, Japanese, Desserts  ...  Botswana Pula(P)               Yes   \n",
       "1                          Japanese  ...  Botswana Pula(P)               Yes   \n",
       "2  Seafood, Asian, Filipino, Indian  ...  Botswana Pula(P)               Yes   \n",
       "3                   Japanese, Sushi  ...  Botswana Pula(P)                No   \n",
       "4                  Japanese, Korean  ...  Botswana Pula(P)               Yes   \n",
       "\n",
       "  Has Online delivery Is delivering now Switch to order menu Price range  \\\n",
       "0                  No                No                   No           3   \n",
       "1                  No                No                   No           3   \n",
       "2                  No                No                   No           4   \n",
       "3                  No                No                   No           4   \n",
       "4                  No                No                   No           4   \n",
       "\n",
       "   Aggregate rating  Rating color Rating text Votes  \n",
       "0               4.8    Dark Green   Excellent   314  \n",
       "1               4.5    Dark Green   Excellent   591  \n",
       "2               4.4         Green   Very Good   270  \n",
       "3               4.9    Dark Green   Excellent   365  \n",
       "4               4.8    Dark Green   Excellent   229  \n",
       "\n",
       "[5 rows x 21 columns]"
      ]
     },
     "execution_count": 4,
     "metadata": {},
     "output_type": "execute_result"
    }
   ],
   "source": [
    "df_zomato.head(5)"
   ]
  },
  {
   "cell_type": "code",
   "execution_count": 5,
   "id": "684b6867-f154-425a-8f47-de80786cb1d3",
   "metadata": {},
   "outputs": [
    {
     "data": {
      "text/plain": [
       "Index(['Restaurant ID', 'Restaurant Name', 'Country Code', 'City', 'Address',\n",
       "       'Locality', 'Locality Verbose', 'Longitude', 'Latitude', 'Cuisines',\n",
       "       'Average Cost for two', 'Currency', 'Has Table booking',\n",
       "       'Has Online delivery', 'Is delivering now', 'Switch to order menu',\n",
       "       'Price range', 'Aggregate rating', 'Rating color', 'Rating text',\n",
       "       'Votes'],\n",
       "      dtype='object')"
      ]
     },
     "execution_count": 5,
     "metadata": {},
     "output_type": "execute_result"
    }
   ],
   "source": [
    "df_zomato.columns"
   ]
  },
  {
   "cell_type": "code",
   "execution_count": 6,
   "id": "6917f0d2-d7eb-436e-b2e6-5bbf4c8f5684",
   "metadata": {},
   "outputs": [
    {
     "data": {
      "text/plain": [
       "(9551, 21)"
      ]
     },
     "execution_count": 6,
     "metadata": {},
     "output_type": "execute_result"
    }
   ],
   "source": [
    "df_zomato.shape"
   ]
  },
  {
   "cell_type": "code",
   "execution_count": 7,
   "id": "85adac6a-3ffe-44e6-bb52-63c821aef759",
   "metadata": {},
   "outputs": [
    {
     "name": "stdout",
     "output_type": "stream",
     "text": [
      "<class 'pandas.core.frame.DataFrame'>\n",
      "RangeIndex: 9551 entries, 0 to 9550\n",
      "Data columns (total 21 columns):\n",
      " #   Column                Non-Null Count  Dtype  \n",
      "---  ------                --------------  -----  \n",
      " 0   Restaurant ID         9551 non-null   int64  \n",
      " 1   Restaurant Name       9551 non-null   object \n",
      " 2   Country Code          9551 non-null   int64  \n",
      " 3   City                  9551 non-null   object \n",
      " 4   Address               9551 non-null   object \n",
      " 5   Locality              9551 non-null   object \n",
      " 6   Locality Verbose      9551 non-null   object \n",
      " 7   Longitude             9551 non-null   float64\n",
      " 8   Latitude              9551 non-null   float64\n",
      " 9   Cuisines              9542 non-null   object \n",
      " 10  Average Cost for two  9551 non-null   int64  \n",
      " 11  Currency              9551 non-null   object \n",
      " 12  Has Table booking     9551 non-null   object \n",
      " 13  Has Online delivery   9551 non-null   object \n",
      " 14  Is delivering now     9551 non-null   object \n",
      " 15  Switch to order menu  9551 non-null   object \n",
      " 16  Price range           9551 non-null   int64  \n",
      " 17  Aggregate rating      9551 non-null   float64\n",
      " 18  Rating color          9551 non-null   object \n",
      " 19  Rating text           9551 non-null   object \n",
      " 20  Votes                 9551 non-null   int64  \n",
      "dtypes: float64(3), int64(5), object(13)\n",
      "memory usage: 1.5+ MB\n"
     ]
    }
   ],
   "source": [
    "df_zomato.info()"
   ]
  },
  {
   "cell_type": "code",
   "execution_count": 8,
   "id": "c63b07d7-d047-4df1-bd5a-65835744eb56",
   "metadata": {},
   "outputs": [
    {
     "data": {
      "text/plain": [
       "Index                      132\n",
       "Restaurant ID            76408\n",
       "Restaurant Name         614551\n",
       "Country Code             76408\n",
       "City                    546786\n",
       "Address                 980801\n",
       "Locality                602479\n",
       "Locality Verbose        699968\n",
       "Longitude                76408\n",
       "Latitude                 76408\n",
       "Cuisines                658002\n",
       "Average Cost for two     76408\n",
       "Currency                635331\n",
       "Has Table booking       488259\n",
       "Has Online delivery     489552\n",
       "Is delivering now       487135\n",
       "Switch to order menu    487101\n",
       "Price range              76408\n",
       "Aggregate rating         76408\n",
       "Rating color            522724\n",
       "Rating text             535054\n",
       "Votes                    76408\n",
       "dtype: int64"
      ]
     },
     "execution_count": 8,
     "metadata": {},
     "output_type": "execute_result"
    }
   ],
   "source": [
    "df_zomato.memory_usage(deep = True)"
   ]
  },
  {
   "cell_type": "code",
   "execution_count": 9,
   "id": "f4922d50-330a-4824-9d45-7f69a9fdedf3",
   "metadata": {},
   "outputs": [],
   "source": [
    "df_zomato.drop(columns = ['Latitude', 'Longitude', 'Restaurant ID','Address', 'Locality Verbose'],axis = 1, inplace = True)"
   ]
  },
  {
   "cell_type": "code",
   "execution_count": 10,
   "id": "7e00ebd7-10de-40d3-82f5-4cff3e7111d2",
   "metadata": {},
   "outputs": [
    {
     "data": {
      "text/plain": [
       "(9551, 16)"
      ]
     },
     "execution_count": 10,
     "metadata": {},
     "output_type": "execute_result"
    }
   ],
   "source": [
    "df_zomato.shape"
   ]
  },
  {
   "cell_type": "code",
   "execution_count": 11,
   "id": "c5394782-5142-48fb-8a09-e30053e69da4",
   "metadata": {},
   "outputs": [
    {
     "data": {
      "text/plain": [
       "Index(['Restaurant Name', 'Country Code', 'City', 'Locality', 'Cuisines',\n",
       "       'Average Cost for two', 'Currency', 'Has Table booking',\n",
       "       'Has Online delivery', 'Is delivering now', 'Switch to order menu',\n",
       "       'Price range', 'Aggregate rating', 'Rating color', 'Rating text',\n",
       "       'Votes'],\n",
       "      dtype='object')"
      ]
     },
     "execution_count": 11,
     "metadata": {},
     "output_type": "execute_result"
    }
   ],
   "source": [
    "df_zomato.columns"
   ]
  },
  {
   "cell_type": "code",
   "execution_count": 12,
   "id": "48d3534e-e656-4b92-ac0c-4c3760b026e3",
   "metadata": {},
   "outputs": [
    {
     "data": {
      "text/html": [
       "<div>\n",
       "<style scoped>\n",
       "    .dataframe tbody tr th:only-of-type {\n",
       "        vertical-align: middle;\n",
       "    }\n",
       "\n",
       "    .dataframe tbody tr th {\n",
       "        vertical-align: top;\n",
       "    }\n",
       "\n",
       "    .dataframe thead th {\n",
       "        text-align: right;\n",
       "    }\n",
       "</style>\n",
       "<table border=\"1\" class=\"dataframe\">\n",
       "  <thead>\n",
       "    <tr style=\"text-align: right;\">\n",
       "      <th></th>\n",
       "      <th>Country Code</th>\n",
       "      <th>Average Cost for two</th>\n",
       "      <th>Price range</th>\n",
       "      <th>Aggregate rating</th>\n",
       "      <th>Votes</th>\n",
       "    </tr>\n",
       "  </thead>\n",
       "  <tbody>\n",
       "    <tr>\n",
       "      <th>count</th>\n",
       "      <td>9551.000000</td>\n",
       "      <td>9551.000000</td>\n",
       "      <td>9551.000000</td>\n",
       "      <td>9551.000000</td>\n",
       "      <td>9551.000000</td>\n",
       "    </tr>\n",
       "    <tr>\n",
       "      <th>mean</th>\n",
       "      <td>18.365616</td>\n",
       "      <td>1199.210763</td>\n",
       "      <td>1.804837</td>\n",
       "      <td>2.666370</td>\n",
       "      <td>156.909748</td>\n",
       "    </tr>\n",
       "    <tr>\n",
       "      <th>std</th>\n",
       "      <td>56.750546</td>\n",
       "      <td>16121.183073</td>\n",
       "      <td>0.905609</td>\n",
       "      <td>1.516378</td>\n",
       "      <td>430.169145</td>\n",
       "    </tr>\n",
       "    <tr>\n",
       "      <th>min</th>\n",
       "      <td>1.000000</td>\n",
       "      <td>0.000000</td>\n",
       "      <td>1.000000</td>\n",
       "      <td>0.000000</td>\n",
       "      <td>0.000000</td>\n",
       "    </tr>\n",
       "    <tr>\n",
       "      <th>25%</th>\n",
       "      <td>1.000000</td>\n",
       "      <td>250.000000</td>\n",
       "      <td>1.000000</td>\n",
       "      <td>2.500000</td>\n",
       "      <td>5.000000</td>\n",
       "    </tr>\n",
       "    <tr>\n",
       "      <th>50%</th>\n",
       "      <td>1.000000</td>\n",
       "      <td>400.000000</td>\n",
       "      <td>2.000000</td>\n",
       "      <td>3.200000</td>\n",
       "      <td>31.000000</td>\n",
       "    </tr>\n",
       "    <tr>\n",
       "      <th>75%</th>\n",
       "      <td>1.000000</td>\n",
       "      <td>700.000000</td>\n",
       "      <td>2.000000</td>\n",
       "      <td>3.700000</td>\n",
       "      <td>131.000000</td>\n",
       "    </tr>\n",
       "    <tr>\n",
       "      <th>max</th>\n",
       "      <td>216.000000</td>\n",
       "      <td>800000.000000</td>\n",
       "      <td>4.000000</td>\n",
       "      <td>4.900000</td>\n",
       "      <td>10934.000000</td>\n",
       "    </tr>\n",
       "  </tbody>\n",
       "</table>\n",
       "</div>"
      ],
      "text/plain": [
       "       Country Code  Average Cost for two  Price range  Aggregate rating  \\\n",
       "count   9551.000000           9551.000000  9551.000000       9551.000000   \n",
       "mean      18.365616           1199.210763     1.804837          2.666370   \n",
       "std       56.750546          16121.183073     0.905609          1.516378   \n",
       "min        1.000000              0.000000     1.000000          0.000000   \n",
       "25%        1.000000            250.000000     1.000000          2.500000   \n",
       "50%        1.000000            400.000000     2.000000          3.200000   \n",
       "75%        1.000000            700.000000     2.000000          3.700000   \n",
       "max      216.000000         800000.000000     4.000000          4.900000   \n",
       "\n",
       "              Votes  \n",
       "count   9551.000000  \n",
       "mean     156.909748  \n",
       "std      430.169145  \n",
       "min        0.000000  \n",
       "25%        5.000000  \n",
       "50%       31.000000  \n",
       "75%      131.000000  \n",
       "max    10934.000000  "
      ]
     },
     "execution_count": 12,
     "metadata": {},
     "output_type": "execute_result"
    }
   ],
   "source": [
    "df_zomato.describe()"
   ]
  },
  {
   "cell_type": "code",
   "execution_count": 13,
   "id": "ae0babd3-49a2-466b-b56e-9b21103fa0d1",
   "metadata": {},
   "outputs": [
    {
     "data": {
      "image/png": "[encoded data removed]",
      "text/plain": [
       "<Figure size 640x480 with 2 Axes>"
      ]
     },
     "metadata": {},
     "output_type": "display_data"
    }
   ],
   "source": [
    "\n",
    "df_numeric = df_zomato.select_dtypes(include='number')\n",
    "\n",
    "# Correlation heatmap\n",
    "sns.heatmap(df_numeric.corr(), annot=True, linewidths=1)\n",
    "plt.show()\n"
   ]
  },
  {
   "cell_type": "code",
   "execution_count": 14,
   "id": "542a78ee-7502-4120-af5a-00ee21641667",
   "metadata": {},
   "outputs": [
    {
     "data": {
      "text/plain": [
       "Restaurant Name         0\n",
       "Country Code            0\n",
       "City                    0\n",
       "Locality                0\n",
       "Cuisines                9\n",
       "Average Cost for two    0\n",
       "Currency                0\n",
       "Has Table booking       0\n",
       "Has Online delivery     0\n",
       "Is delivering now       0\n",
       "Switch to order menu    0\n",
       "Price range             0\n",
       "Aggregate rating        0\n",
       "Rating color            0\n",
       "Rating text             0\n",
       "Votes                   0\n",
       "dtype: int64"
      ]
     },
     "execution_count": 14,
     "metadata": {},
     "output_type": "execute_result"
    }
   ],
   "source": [
    "#missing values\n",
    "df_zomato.isnull().sum()"
   ]
  },
  {
   "cell_type": "code",
   "execution_count": 15,
   "id": "416766fd-afe0-4e32-b857-dee7359ff092",
   "metadata": {},
   "outputs": [
    {
     "data": {
      "text/plain": [
       "Restaurant Name         0.000000\n",
       "Country Code            0.000000\n",
       "City                    0.000000\n",
       "Locality                0.000000\n",
       "Cuisines                0.094231\n",
       "Average Cost for two    0.000000\n",
       "Currency                0.000000\n",
       "Has Table booking       0.000000\n",
       "Has Online delivery     0.000000\n",
       "Is delivering now       0.000000\n",
       "Switch to order menu    0.000000\n",
       "Price range             0.000000\n",
       "Aggregate rating        0.000000\n",
       "Rating color            0.000000\n",
       "Rating text             0.000000\n",
       "Votes                   0.000000\n",
       "dtype: float64"
      ]
     },
     "execution_count": 15,
     "metadata": {},
     "output_type": "execute_result"
    }
   ],
   "source": [
    "perc_missingdata = df_zomato.isnull().sum() * 100 /len(df_zomato)\n",
    "perc_missingdata"
   ]
  },
  {
   "cell_type": "code",
   "execution_count": 16,
   "id": "45d646ed-bedf-4228-a1f0-1ca04340148d",
   "metadata": {},
   "outputs": [],
   "source": [
    "missing_df = pd.DataFrame({'Variables': df_zomato.columns, \n",
    "                           'Percent_Missing' : perc_missingdata})"
   ]
  },
  {
   "cell_type": "code",
   "execution_count": 17,
   "id": "48814b22-0332-4c21-8850-0f7db533bb1a",
   "metadata": {},
   "outputs": [
    {
     "data": {
      "text/html": [
       "<div>\n",
       "<style scoped>\n",
       "    .dataframe tbody tr th:only-of-type {\n",
       "        vertical-align: middle;\n",
       "    }\n",
       "\n",
       "    .dataframe tbody tr th {\n",
       "        vertical-align: top;\n",
       "    }\n",
       "\n",
       "    .dataframe thead th {\n",
       "        text-align: right;\n",
       "    }\n",
       "</style>\n",
       "<table border=\"1\" class=\"dataframe\">\n",
       "  <thead>\n",
       "    <tr style=\"text-align: right;\">\n",
       "      <th></th>\n",
       "      <th>Variables</th>\n",
       "      <th>Percent_Missing</th>\n",
       "    </tr>\n",
       "  </thead>\n",
       "  <tbody>\n",
       "    <tr>\n",
       "      <th>Restaurant Name</th>\n",
       "      <td>Restaurant Name</td>\n",
       "      <td>0.000000</td>\n",
       "    </tr>\n",
       "    <tr>\n",
       "      <th>Country Code</th>\n",
       "      <td>Country Code</td>\n",
       "      <td>0.000000</td>\n",
       "    </tr>\n",
       "    <tr>\n",
       "      <th>City</th>\n",
       "      <td>City</td>\n",
       "      <td>0.000000</td>\n",
       "    </tr>\n",
       "    <tr>\n",
       "      <th>Locality</th>\n",
       "      <td>Locality</td>\n",
       "      <td>0.000000</td>\n",
       "    </tr>\n",
       "    <tr>\n",
       "      <th>Cuisines</th>\n",
       "      <td>Cuisines</td>\n",
       "      <td>0.094231</td>\n",
       "    </tr>\n",
       "    <tr>\n",
       "      <th>Average Cost for two</th>\n",
       "      <td>Average Cost for two</td>\n",
       "      <td>0.000000</td>\n",
       "    </tr>\n",
       "    <tr>\n",
       "      <th>Currency</th>\n",
       "      <td>Currency</td>\n",
       "      <td>0.000000</td>\n",
       "    </tr>\n",
       "    <tr>\n",
       "      <th>Has Table booking</th>\n",
       "      <td>Has Table booking</td>\n",
       "      <td>0.000000</td>\n",
       "    </tr>\n",
       "    <tr>\n",
       "      <th>Has Online delivery</th>\n",
       "      <td>Has Online delivery</td>\n",
       "      <td>0.000000</td>\n",
       "    </tr>\n",
       "    <tr>\n",
       "      <th>Is delivering now</th>\n",
       "      <td>Is delivering now</td>\n",
       "      <td>0.000000</td>\n",
       "    </tr>\n",
       "    <tr>\n",
       "      <th>Switch to order menu</th>\n",
       "      <td>Switch to order menu</td>\n",
       "      <td>0.000000</td>\n",
       "    </tr>\n",
       "    <tr>\n",
       "      <th>Price range</th>\n",
       "      <td>Price range</td>\n",
       "      <td>0.000000</td>\n",
       "    </tr>\n",
       "    <tr>\n",
       "      <th>Aggregate rating</th>\n",
       "      <td>Aggregate rating</td>\n",
       "      <td>0.000000</td>\n",
       "    </tr>\n",
       "    <tr>\n",
       "      <th>Rating color</th>\n",
       "      <td>Rating color</td>\n",
       "      <td>0.000000</td>\n",
       "    </tr>\n",
       "    <tr>\n",
       "      <th>Rating text</th>\n",
       "      <td>Rating text</td>\n",
       "      <td>0.000000</td>\n",
       "    </tr>\n",
       "    <tr>\n",
       "      <th>Votes</th>\n",
       "      <td>Votes</td>\n",
       "      <td>0.000000</td>\n",
       "    </tr>\n",
       "  </tbody>\n",
       "</table>\n",
       "</div>"
      ],
      "text/plain": [
       "                                 Variables  Percent_Missing\n",
       "Restaurant Name            Restaurant Name         0.000000\n",
       "Country Code                  Country Code         0.000000\n",
       "City                                  City         0.000000\n",
       "Locality                          Locality         0.000000\n",
       "Cuisines                          Cuisines         0.094231\n",
       "Average Cost for two  Average Cost for two         0.000000\n",
       "Currency                          Currency         0.000000\n",
       "Has Table booking        Has Table booking         0.000000\n",
       "Has Online delivery    Has Online delivery         0.000000\n",
       "Is delivering now        Is delivering now         0.000000\n",
       "Switch to order menu  Switch to order menu         0.000000\n",
       "Price range                    Price range         0.000000\n",
       "Aggregate rating          Aggregate rating         0.000000\n",
       "Rating color                  Rating color         0.000000\n",
       "Rating text                    Rating text         0.000000\n",
       "Votes                                Votes         0.000000"
      ]
     },
     "execution_count": 17,
     "metadata": {},
     "output_type": "execute_result"
    }
   ],
   "source": [
    "missing_df"
   ]
  },
  {
   "cell_type": "code",
   "execution_count": 18,
   "id": "0a75eb23-c56d-4abd-98d1-e0e3935c7c7c",
   "metadata": {},
   "outputs": [
    {
     "data": {
      "text/plain": [
       "9"
      ]
     },
     "execution_count": 18,
     "metadata": {},
     "output_type": "execute_result"
    }
   ],
   "source": [
    "df_zomato['Cuisines'].isnull().sum()"
   ]
  },
  {
   "cell_type": "code",
   "execution_count": 19,
   "id": "37bc3bb4-b6e8-45cb-afe6-6e87ca4aeba0",
   "metadata": {},
   "outputs": [],
   "source": [
    "perc_missdata = df_zomato['Cuisines'].isnull().sum() * 100 / len(df_zomato)"
   ]
  },
  {
   "cell_type": "code",
   "execution_count": 20,
   "id": "4661e85a-136a-4edd-8589-b8a0f868ecef",
   "metadata": {},
   "outputs": [
    {
     "data": {
      "text/plain": [
       "0.09423097057899696"
      ]
     },
     "execution_count": 20,
     "metadata": {},
     "output_type": "execute_result"
    }
   ],
   "source": [
    "perc_missdata"
   ]
  },
  {
   "cell_type": "code",
   "execution_count": 21,
   "id": "4f59b6c6-8a6d-42ae-acfb-03c4eae0c2ff",
   "metadata": {},
   "outputs": [],
   "source": [
    "df_zomato.rename({'Has Table booking': 'Accepts_Table_Booking',\n",
    "                 'Rating color' : 'Rating_Schema',\n",
    "                  'Rating text' : 'Rating',\n",
    "                  'Average Cost for two' : 'Avg_Cost',\n",
    "                  'Has Online delivery' : 'Online_Delivery',\n",
    "                  'Aggregate rating' : 'Aggregate_Rating'},\n",
    "                 axis = 1, inplace = True)\n",
    "                  "
   ]
  },
  {
   "cell_type": "code",
   "execution_count": 22,
   "id": "fa29ac9f-a131-4dd7-b5e5-dc6a25d810ec",
   "metadata": {},
   "outputs": [
    {
     "data": {
      "text/plain": [
       "Index(['Restaurant Name', 'Country Code', 'City', 'Locality', 'Cuisines',\n",
       "       'Avg_Cost', 'Currency', 'Accepts_Table_Booking', 'Online_Delivery',\n",
       "       'Is delivering now', 'Switch to order menu', 'Price range',\n",
       "       'Aggregate_Rating', 'Rating_Schema', 'Rating', 'Votes'],\n",
       "      dtype='object')"
      ]
     },
     "execution_count": 22,
     "metadata": {},
     "output_type": "execute_result"
    }
   ],
   "source": [
    "df_zomato.columns"
   ]
  },
  {
   "cell_type": "code",
   "execution_count": 23,
   "id": "c1712620-a127-4a87-8af9-8201ae39b11e",
   "metadata": {},
   "outputs": [],
   "source": [
    "subset_df = df_zomato[['Aggregate_Rating', 'Rating_Schema', 'Rating', 'Votes']]"
   ]
  },
  {
   "cell_type": "code",
   "execution_count": 24,
   "id": "5caf7f6e-7daf-4eca-88c6-aeb8ec9e4eca",
   "metadata": {},
   "outputs": [
    {
     "data": {
      "text/html": [
       "<div>\n",
       "<style scoped>\n",
       "    .dataframe tbody tr th:only-of-type {\n",
       "        vertical-align: middle;\n",
       "    }\n",
       "\n",
       "    .dataframe tbody tr th {\n",
       "        vertical-align: top;\n",
       "    }\n",
       "\n",
       "    .dataframe thead th {\n",
       "        text-align: right;\n",
       "    }\n",
       "</style>\n",
       "<table border=\"1\" class=\"dataframe\">\n",
       "  <thead>\n",
       "    <tr style=\"text-align: right;\">\n",
       "      <th></th>\n",
       "      <th>Aggregate_Rating</th>\n",
       "      <th>Rating_Schema</th>\n",
       "      <th>Rating</th>\n",
       "      <th>Votes</th>\n",
       "    </tr>\n",
       "  </thead>\n",
       "  <tbody>\n",
       "    <tr>\n",
       "      <th>0</th>\n",
       "      <td>4.8</td>\n",
       "      <td>Dark Green</td>\n",
       "      <td>Excellent</td>\n",
       "      <td>314</td>\n",
       "    </tr>\n",
       "    <tr>\n",
       "      <th>1</th>\n",
       "      <td>4.5</td>\n",
       "      <td>Dark Green</td>\n",
       "      <td>Excellent</td>\n",
       "      <td>591</td>\n",
       "    </tr>\n",
       "    <tr>\n",
       "      <th>2</th>\n",
       "      <td>4.4</td>\n",
       "      <td>Green</td>\n",
       "      <td>Very Good</td>\n",
       "      <td>270</td>\n",
       "    </tr>\n",
       "    <tr>\n",
       "      <th>3</th>\n",
       "      <td>4.9</td>\n",
       "      <td>Dark Green</td>\n",
       "      <td>Excellent</td>\n",
       "      <td>365</td>\n",
       "    </tr>\n",
       "    <tr>\n",
       "      <th>4</th>\n",
       "      <td>4.8</td>\n",
       "      <td>Dark Green</td>\n",
       "      <td>Excellent</td>\n",
       "      <td>229</td>\n",
       "    </tr>\n",
       "    <tr>\n",
       "      <th>...</th>\n",
       "      <td>...</td>\n",
       "      <td>...</td>\n",
       "      <td>...</td>\n",
       "      <td>...</td>\n",
       "    </tr>\n",
       "    <tr>\n",
       "      <th>9546</th>\n",
       "      <td>4.1</td>\n",
       "      <td>Green</td>\n",
       "      <td>Very Good</td>\n",
       "      <td>788</td>\n",
       "    </tr>\n",
       "    <tr>\n",
       "      <th>9547</th>\n",
       "      <td>4.2</td>\n",
       "      <td>Green</td>\n",
       "      <td>Very Good</td>\n",
       "      <td>1034</td>\n",
       "    </tr>\n",
       "    <tr>\n",
       "      <th>9548</th>\n",
       "      <td>3.7</td>\n",
       "      <td>Yellow</td>\n",
       "      <td>Good</td>\n",
       "      <td>661</td>\n",
       "    </tr>\n",
       "    <tr>\n",
       "      <th>9549</th>\n",
       "      <td>4.0</td>\n",
       "      <td>Green</td>\n",
       "      <td>Very Good</td>\n",
       "      <td>901</td>\n",
       "    </tr>\n",
       "    <tr>\n",
       "      <th>9550</th>\n",
       "      <td>4.0</td>\n",
       "      <td>Green</td>\n",
       "      <td>Very Good</td>\n",
       "      <td>591</td>\n",
       "    </tr>\n",
       "  </tbody>\n",
       "</table>\n",
       "<p>9551 rows × 4 columns</p>\n",
       "</div>"
      ],
      "text/plain": [
       "      Aggregate_Rating Rating_Schema     Rating  Votes\n",
       "0                  4.8    Dark Green  Excellent    314\n",
       "1                  4.5    Dark Green  Excellent    591\n",
       "2                  4.4         Green  Very Good    270\n",
       "3                  4.9    Dark Green  Excellent    365\n",
       "4                  4.8    Dark Green  Excellent    229\n",
       "...                ...           ...        ...    ...\n",
       "9546               4.1         Green  Very Good    788\n",
       "9547               4.2         Green  Very Good   1034\n",
       "9548               3.7        Yellow       Good    661\n",
       "9549               4.0         Green  Very Good    901\n",
       "9550               4.0         Green  Very Good    591\n",
       "\n",
       "[9551 rows x 4 columns]"
      ]
     },
     "execution_count": 24,
     "metadata": {},
     "output_type": "execute_result"
    }
   ],
   "source": [
    "subset_df"
   ]
  },
  {
   "cell_type": "code",
   "execution_count": 25,
   "id": "3cb86df7-063c-4439-850b-6145ab0c4c1c",
   "metadata": {},
   "outputs": [
    {
     "data": {
      "text/plain": [
       "Rating_Schema\n",
       "Orange        3737\n",
       "White         2148\n",
       "Yellow        2100\n",
       "Green         1079\n",
       "Dark Green     301\n",
       "Red            186\n",
       "Name: count, dtype: int64"
      ]
     },
     "execution_count": 25,
     "metadata": {},
     "output_type": "execute_result"
    }
   ],
   "source": [
    "subset_df['Rating_Schema'].value_counts()"
   ]
  },
  {
   "cell_type": "code",
   "execution_count": 26,
   "id": "1d910a05-2993-4512-bed1-1d7446f211e9",
   "metadata": {},
   "outputs": [
    {
     "data": {
      "text/plain": [
       "0.03151502460475343"
      ]
     },
     "execution_count": 26,
     "metadata": {},
     "output_type": "execute_result"
    }
   ],
   "source": [
    "301/9551"
   ]
  },
  {
   "cell_type": "code",
   "execution_count": 27,
   "id": "7c4be42b-d2b4-4579-867d-4bed368bdf0e",
   "metadata": {},
   "outputs": [
    {
     "data": {
      "text/plain": [
       "Accepts_Table_Booking\n",
       "No     8393\n",
       "Yes    1158\n",
       "Name: count, dtype: int64"
      ]
     },
     "execution_count": 27,
     "metadata": {},
     "output_type": "execute_result"
    }
   ],
   "source": [
    "df_zomato['Accepts_Table_Booking'].value_counts()"
   ]
  },
  {
   "cell_type": "code",
   "execution_count": 28,
   "id": "20cad3d6-756f-4f5c-b4f6-3af3c8c2508b",
   "metadata": {},
   "outputs": [
    {
     "data": {
      "text/html": [
       "<div>\n",
       "<style scoped>\n",
       "    .dataframe tbody tr th:only-of-type {\n",
       "        vertical-align: middle;\n",
       "    }\n",
       "\n",
       "    .dataframe tbody tr th {\n",
       "        vertical-align: top;\n",
       "    }\n",
       "\n",
       "    .dataframe thead tr th {\n",
       "        text-align: left;\n",
       "    }\n",
       "\n",
       "    .dataframe thead tr:last-of-type th {\n",
       "        text-align: right;\n",
       "    }\n",
       "</style>\n",
       "<table border=\"1\" class=\"dataframe\">\n",
       "  <thead>\n",
       "    <tr>\n",
       "      <th></th>\n",
       "      <th colspan=\"2\" halign=\"left\">Aggregate_Rating</th>\n",
       "      <th colspan=\"2\" halign=\"left\">Rating</th>\n",
       "    </tr>\n",
       "    <tr>\n",
       "      <th></th>\n",
       "      <th>min</th>\n",
       "      <th>max</th>\n",
       "      <th>min</th>\n",
       "      <th>max</th>\n",
       "    </tr>\n",
       "    <tr>\n",
       "      <th>Rating_Schema</th>\n",
       "      <th></th>\n",
       "      <th></th>\n",
       "      <th></th>\n",
       "      <th></th>\n",
       "    </tr>\n",
       "  </thead>\n",
       "  <tbody>\n",
       "    <tr>\n",
       "      <th>Dark Green</th>\n",
       "      <td>4.5</td>\n",
       "      <td>4.9</td>\n",
       "      <td>Excellent</td>\n",
       "      <td>Excellent</td>\n",
       "    </tr>\n",
       "    <tr>\n",
       "      <th>Green</th>\n",
       "      <td>4.0</td>\n",
       "      <td>4.4</td>\n",
       "      <td>Very Good</td>\n",
       "      <td>Very Good</td>\n",
       "    </tr>\n",
       "    <tr>\n",
       "      <th>Orange</th>\n",
       "      <td>2.5</td>\n",
       "      <td>3.4</td>\n",
       "      <td>Average</td>\n",
       "      <td>Average</td>\n",
       "    </tr>\n",
       "    <tr>\n",
       "      <th>Red</th>\n",
       "      <td>1.8</td>\n",
       "      <td>2.4</td>\n",
       "      <td>Poor</td>\n",
       "      <td>Poor</td>\n",
       "    </tr>\n",
       "    <tr>\n",
       "      <th>White</th>\n",
       "      <td>0.0</td>\n",
       "      <td>0.0</td>\n",
       "      <td>Not rated</td>\n",
       "      <td>Not rated</td>\n",
       "    </tr>\n",
       "    <tr>\n",
       "      <th>Yellow</th>\n",
       "      <td>3.5</td>\n",
       "      <td>3.9</td>\n",
       "      <td>Good</td>\n",
       "      <td>Good</td>\n",
       "    </tr>\n",
       "  </tbody>\n",
       "</table>\n",
       "</div>"
      ],
      "text/plain": [
       "              Aggregate_Rating          Rating           \n",
       "                           min  max        min        max\n",
       "Rating_Schema                                            \n",
       "Dark Green                 4.5  4.9  Excellent  Excellent\n",
       "Green                      4.0  4.4  Very Good  Very Good\n",
       "Orange                     2.5  3.4    Average    Average\n",
       "Red                        1.8  2.4       Poor       Poor\n",
       "White                      0.0  0.0  Not rated  Not rated\n",
       "Yellow                     3.5  3.9       Good       Good"
      ]
     },
     "execution_count": 28,
     "metadata": {},
     "output_type": "execute_result"
    }
   ],
   "source": [
    "result_rating = subset_df.groupby('Rating_Schema')[['Aggregate_Rating', 'Rating']].aggregate(['min', 'max'])\n",
    "result_rating"
   ]
  },
  {
   "cell_type": "code",
   "execution_count": 29,
   "id": "ed49d809-42d2-40d7-803c-31211dbb685c",
   "metadata": {},
   "outputs": [
    {
     "data": {
      "text/plain": [
       "<Axes: xlabel='Aggregate_Rating'>"
      ]
     },
     "execution_count": 29,
     "metadata": {},
     "output_type": "execute_result"
    },
    {
     "data": {
      "image/png": "[encoded data removed]",
      "text/plain": [
       "<Figure size 640x480 with 1 Axes>"
      ]
     },
     "metadata": {},
     "output_type": "display_data"
    }
   ],
   "source": [
    "sns.boxplot(data = df_zomato,\n",
    "            x = 'Aggregate_Rating',\n",
    "            color = 'Red',\n",
    "            width = 0.5)"
   ]
  },
  {
   "cell_type": "code",
   "execution_count": 30,
   "id": "0d6b8280-7e90-4537-b965-5a8326ca1fca",
   "metadata": {},
   "outputs": [],
   "source": [
    "join_df = pd.merge(left = df_zomato,\n",
    "                   right = df_countryCode,\n",
    "                   left_on = 'Country Code',\n",
    "                   right_on = 'Country Code',\n",
    "                   how = 'inner')"
   ]
  },
  {
   "cell_type": "code",
   "execution_count": 31,
   "id": "ced14ecb-5c63-4fd5-b7a0-d3aeb49187e3",
   "metadata": {},
   "outputs": [
    {
     "data": {
      "text/html": [
       "<div>\n",
       "<style scoped>\n",
       "    .dataframe tbody tr th:only-of-type {\n",
       "        vertical-align: middle;\n",
       "    }\n",
       "\n",
       "    .dataframe tbody tr th {\n",
       "        vertical-align: top;\n",
       "    }\n",
       "\n",
       "    .dataframe thead th {\n",
       "        text-align: right;\n",
       "    }\n",
       "</style>\n",
       "<table border=\"1\" class=\"dataframe\">\n",
       "  <thead>\n",
       "    <tr style=\"text-align: right;\">\n",
       "      <th></th>\n",
       "      <th>Restaurant Name</th>\n",
       "      <th>Country Code</th>\n",
       "      <th>City</th>\n",
       "      <th>Locality</th>\n",
       "      <th>Cuisines</th>\n",
       "      <th>Avg_Cost</th>\n",
       "      <th>Currency</th>\n",
       "      <th>Accepts_Table_Booking</th>\n",
       "      <th>Online_Delivery</th>\n",
       "      <th>Is delivering now</th>\n",
       "      <th>Switch to order menu</th>\n",
       "      <th>Price range</th>\n",
       "      <th>Aggregate_Rating</th>\n",
       "      <th>Rating_Schema</th>\n",
       "      <th>Rating</th>\n",
       "      <th>Votes</th>\n",
       "      <th>Country</th>\n",
       "    </tr>\n",
       "  </thead>\n",
       "  <tbody>\n",
       "    <tr>\n",
       "      <th>0</th>\n",
       "      <td>Le Petit Souffle</td>\n",
       "      <td>162</td>\n",
       "      <td>Makati City</td>\n",
       "      <td>Century City Mall, Poblacion, Makati City</td>\n",
       "      <td>French, Japanese, Desserts</td>\n",
       "      <td>1100</td>\n",
       "      <td>Botswana Pula(P)</td>\n",
       "      <td>Yes</td>\n",
       "      <td>No</td>\n",
       "      <td>No</td>\n",
       "      <td>No</td>\n",
       "      <td>3</td>\n",
       "      <td>4.8</td>\n",
       "      <td>Dark Green</td>\n",
       "      <td>Excellent</td>\n",
       "      <td>314</td>\n",
       "      <td>Phillipines</td>\n",
       "    </tr>\n",
       "    <tr>\n",
       "      <th>1</th>\n",
       "      <td>Izakaya Kikufuji</td>\n",
       "      <td>162</td>\n",
       "      <td>Makati City</td>\n",
       "      <td>Little Tokyo, Legaspi Village, Makati City</td>\n",
       "      <td>Japanese</td>\n",
       "      <td>1200</td>\n",
       "      <td>Botswana Pula(P)</td>\n",
       "      <td>Yes</td>\n",
       "      <td>No</td>\n",
       "      <td>No</td>\n",
       "      <td>No</td>\n",
       "      <td>3</td>\n",
       "      <td>4.5</td>\n",
       "      <td>Dark Green</td>\n",
       "      <td>Excellent</td>\n",
       "      <td>591</td>\n",
       "      <td>Phillipines</td>\n",
       "    </tr>\n",
       "    <tr>\n",
       "      <th>2</th>\n",
       "      <td>Heat - Edsa Shangri-La</td>\n",
       "      <td>162</td>\n",
       "      <td>Mandaluyong City</td>\n",
       "      <td>Edsa Shangri-La, Ortigas, Mandaluyong City</td>\n",
       "      <td>Seafood, Asian, Filipino, Indian</td>\n",
       "      <td>4000</td>\n",
       "      <td>Botswana Pula(P)</td>\n",
       "      <td>Yes</td>\n",
       "      <td>No</td>\n",
       "      <td>No</td>\n",
       "      <td>No</td>\n",
       "      <td>4</td>\n",
       "      <td>4.4</td>\n",
       "      <td>Green</td>\n",
       "      <td>Very Good</td>\n",
       "      <td>270</td>\n",
       "      <td>Phillipines</td>\n",
       "    </tr>\n",
       "    <tr>\n",
       "      <th>3</th>\n",
       "      <td>Ooma</td>\n",
       "      <td>162</td>\n",
       "      <td>Mandaluyong City</td>\n",
       "      <td>SM Megamall, Ortigas, Mandaluyong City</td>\n",
       "      <td>Japanese, Sushi</td>\n",
       "      <td>1500</td>\n",
       "      <td>Botswana Pula(P)</td>\n",
       "      <td>No</td>\n",
       "      <td>No</td>\n",
       "      <td>No</td>\n",
       "      <td>No</td>\n",
       "      <td>4</td>\n",
       "      <td>4.9</td>\n",
       "      <td>Dark Green</td>\n",
       "      <td>Excellent</td>\n",
       "      <td>365</td>\n",
       "      <td>Phillipines</td>\n",
       "    </tr>\n",
       "    <tr>\n",
       "      <th>4</th>\n",
       "      <td>Sambo Kojin</td>\n",
       "      <td>162</td>\n",
       "      <td>Mandaluyong City</td>\n",
       "      <td>SM Megamall, Ortigas, Mandaluyong City</td>\n",
       "      <td>Japanese, Korean</td>\n",
       "      <td>1500</td>\n",
       "      <td>Botswana Pula(P)</td>\n",
       "      <td>Yes</td>\n",
       "      <td>No</td>\n",
       "      <td>No</td>\n",
       "      <td>No</td>\n",
       "      <td>4</td>\n",
       "      <td>4.8</td>\n",
       "      <td>Dark Green</td>\n",
       "      <td>Excellent</td>\n",
       "      <td>229</td>\n",
       "      <td>Phillipines</td>\n",
       "    </tr>\n",
       "    <tr>\n",
       "      <th>...</th>\n",
       "      <td>...</td>\n",
       "      <td>...</td>\n",
       "      <td>...</td>\n",
       "      <td>...</td>\n",
       "      <td>...</td>\n",
       "      <td>...</td>\n",
       "      <td>...</td>\n",
       "      <td>...</td>\n",
       "      <td>...</td>\n",
       "      <td>...</td>\n",
       "      <td>...</td>\n",
       "      <td>...</td>\n",
       "      <td>...</td>\n",
       "      <td>...</td>\n",
       "      <td>...</td>\n",
       "      <td>...</td>\n",
       "      <td>...</td>\n",
       "    </tr>\n",
       "    <tr>\n",
       "      <th>9546</th>\n",
       "      <td>NamlÛ± Gurme</td>\n",
       "      <td>208</td>\n",
       "      <td>ÛÁstanbul</td>\n",
       "      <td>Karakí_y</td>\n",
       "      <td>Turkish</td>\n",
       "      <td>80</td>\n",
       "      <td>Turkish Lira(TL)</td>\n",
       "      <td>No</td>\n",
       "      <td>No</td>\n",
       "      <td>No</td>\n",
       "      <td>No</td>\n",
       "      <td>3</td>\n",
       "      <td>4.1</td>\n",
       "      <td>Green</td>\n",
       "      <td>Very Good</td>\n",
       "      <td>788</td>\n",
       "      <td>Turkey</td>\n",
       "    </tr>\n",
       "    <tr>\n",
       "      <th>9547</th>\n",
       "      <td>Ceviz AÛôacÛ±</td>\n",
       "      <td>208</td>\n",
       "      <td>ÛÁstanbul</td>\n",
       "      <td>Koôuyolu</td>\n",
       "      <td>World Cuisine, Patisserie, Cafe</td>\n",
       "      <td>105</td>\n",
       "      <td>Turkish Lira(TL)</td>\n",
       "      <td>No</td>\n",
       "      <td>No</td>\n",
       "      <td>No</td>\n",
       "      <td>No</td>\n",
       "      <td>3</td>\n",
       "      <td>4.2</td>\n",
       "      <td>Green</td>\n",
       "      <td>Very Good</td>\n",
       "      <td>1034</td>\n",
       "      <td>Turkey</td>\n",
       "    </tr>\n",
       "    <tr>\n",
       "      <th>9548</th>\n",
       "      <td>Huqqa</td>\n",
       "      <td>208</td>\n",
       "      <td>ÛÁstanbul</td>\n",
       "      <td>Kuruí_eôme</td>\n",
       "      <td>Italian, World Cuisine</td>\n",
       "      <td>170</td>\n",
       "      <td>Turkish Lira(TL)</td>\n",
       "      <td>No</td>\n",
       "      <td>No</td>\n",
       "      <td>No</td>\n",
       "      <td>No</td>\n",
       "      <td>4</td>\n",
       "      <td>3.7</td>\n",
       "      <td>Yellow</td>\n",
       "      <td>Good</td>\n",
       "      <td>661</td>\n",
       "      <td>Turkey</td>\n",
       "    </tr>\n",
       "    <tr>\n",
       "      <th>9549</th>\n",
       "      <td>Aôôk Kahve</td>\n",
       "      <td>208</td>\n",
       "      <td>ÛÁstanbul</td>\n",
       "      <td>Kuruí_eôme</td>\n",
       "      <td>Restaurant Cafe</td>\n",
       "      <td>120</td>\n",
       "      <td>Turkish Lira(TL)</td>\n",
       "      <td>No</td>\n",
       "      <td>No</td>\n",
       "      <td>No</td>\n",
       "      <td>No</td>\n",
       "      <td>4</td>\n",
       "      <td>4.0</td>\n",
       "      <td>Green</td>\n",
       "      <td>Very Good</td>\n",
       "      <td>901</td>\n",
       "      <td>Turkey</td>\n",
       "    </tr>\n",
       "    <tr>\n",
       "      <th>9550</th>\n",
       "      <td>Walter's Coffee Roastery</td>\n",
       "      <td>208</td>\n",
       "      <td>ÛÁstanbul</td>\n",
       "      <td>Moda</td>\n",
       "      <td>Cafe</td>\n",
       "      <td>55</td>\n",
       "      <td>Turkish Lira(TL)</td>\n",
       "      <td>No</td>\n",
       "      <td>No</td>\n",
       "      <td>No</td>\n",
       "      <td>No</td>\n",
       "      <td>2</td>\n",
       "      <td>4.0</td>\n",
       "      <td>Green</td>\n",
       "      <td>Very Good</td>\n",
       "      <td>591</td>\n",
       "      <td>Turkey</td>\n",
       "    </tr>\n",
       "  </tbody>\n",
       "</table>\n",
       "<p>9551 rows × 17 columns</p>\n",
       "</div>"
      ],
      "text/plain": [
       "               Restaurant Name  Country Code              City  \\\n",
       "0             Le Petit Souffle           162       Makati City   \n",
       "1             Izakaya Kikufuji           162       Makati City   \n",
       "2       Heat - Edsa Shangri-La           162  Mandaluyong City   \n",
       "3                         Ooma           162  Mandaluyong City   \n",
       "4                  Sambo Kojin           162  Mandaluyong City   \n",
       "...                        ...           ...               ...   \n",
       "9546              NamlÛ± Gurme           208         ÛÁstanbul   \n",
       "9547             Ceviz AÛôacÛ±           208         ÛÁstanbul   \n",
       "9548                     Huqqa           208         ÛÁstanbul   \n",
       "9549              Aôôk Kahve           208         ÛÁstanbul   \n",
       "9550  Walter's Coffee Roastery           208         ÛÁstanbul   \n",
       "\n",
       "                                        Locality  \\\n",
       "0      Century City Mall, Poblacion, Makati City   \n",
       "1     Little Tokyo, Legaspi Village, Makati City   \n",
       "2     Edsa Shangri-La, Ortigas, Mandaluyong City   \n",
       "3         SM Megamall, Ortigas, Mandaluyong City   \n",
       "4         SM Megamall, Ortigas, Mandaluyong City   \n",
       "...                                          ...   \n",
       "9546                                    Karakí_y   \n",
       "9547                                   Koôuyolu   \n",
       "9548                                 Kuruí_eôme   \n",
       "9549                                 Kuruí_eôme   \n",
       "9550                                        Moda   \n",
       "\n",
       "                              Cuisines  Avg_Cost          Currency  \\\n",
       "0           French, Japanese, Desserts      1100  Botswana Pula(P)   \n",
       "1                             Japanese      1200  Botswana Pula(P)   \n",
       "2     Seafood, Asian, Filipino, Indian      4000  Botswana Pula(P)   \n",
       "3                      Japanese, Sushi      1500  Botswana Pula(P)   \n",
       "4                     Japanese, Korean      1500  Botswana Pula(P)   \n",
       "...                                ...       ...               ...   \n",
       "9546                           Turkish        80  Turkish Lira(TL)   \n",
       "9547   World Cuisine, Patisserie, Cafe       105  Turkish Lira(TL)   \n",
       "9548            Italian, World Cuisine       170  Turkish Lira(TL)   \n",
       "9549                   Restaurant Cafe       120  Turkish Lira(TL)   \n",
       "9550                              Cafe        55  Turkish Lira(TL)   \n",
       "\n",
       "     Accepts_Table_Booking Online_Delivery Is delivering now  \\\n",
       "0                      Yes              No                No   \n",
       "1                      Yes              No                No   \n",
       "2                      Yes              No                No   \n",
       "3                       No              No                No   \n",
       "4                      Yes              No                No   \n",
       "...                    ...             ...               ...   \n",
       "9546                    No              No                No   \n",
       "9547                    No              No                No   \n",
       "9548                    No              No                No   \n",
       "9549                    No              No                No   \n",
       "9550                    No              No                No   \n",
       "\n",
       "     Switch to order menu  Price range  Aggregate_Rating Rating_Schema  \\\n",
       "0                      No            3               4.8    Dark Green   \n",
       "1                      No            3               4.5    Dark Green   \n",
       "2                      No            4               4.4         Green   \n",
       "3                      No            4               4.9    Dark Green   \n",
       "4                      No            4               4.8    Dark Green   \n",
       "...                   ...          ...               ...           ...   \n",
       "9546                   No            3               4.1         Green   \n",
       "9547                   No            3               4.2         Green   \n",
       "9548                   No            4               3.7        Yellow   \n",
       "9549                   No            4               4.0         Green   \n",
       "9550                   No            2               4.0         Green   \n",
       "\n",
       "         Rating  Votes      Country  \n",
       "0     Excellent    314  Phillipines  \n",
       "1     Excellent    591  Phillipines  \n",
       "2     Very Good    270  Phillipines  \n",
       "3     Excellent    365  Phillipines  \n",
       "4     Excellent    229  Phillipines  \n",
       "...         ...    ...          ...  \n",
       "9546  Very Good    788       Turkey  \n",
       "9547  Very Good   1034       Turkey  \n",
       "9548       Good    661       Turkey  \n",
       "9549  Very Good    901       Turkey  \n",
       "9550  Very Good    591       Turkey  \n",
       "\n",
       "[9551 rows x 17 columns]"
      ]
     },
     "execution_count": 31,
     "metadata": {},
     "output_type": "execute_result"
    }
   ],
   "source": [
    "join_df"
   ]
  },
  {
   "cell_type": "code",
   "execution_count": 32,
   "id": "2357766f-5f69-464a-a813-21935681c8c5",
   "metadata": {},
   "outputs": [
    {
     "data": {
      "text/html": [
       "<div>\n",
       "<style scoped>\n",
       "    .dataframe tbody tr th:only-of-type {\n",
       "        vertical-align: middle;\n",
       "    }\n",
       "\n",
       "    .dataframe tbody tr th {\n",
       "        vertical-align: top;\n",
       "    }\n",
       "\n",
       "    .dataframe thead th {\n",
       "        text-align: right;\n",
       "    }\n",
       "</style>\n",
       "<table border=\"1\" class=\"dataframe\">\n",
       "  <thead>\n",
       "    <tr style=\"text-align: right;\">\n",
       "      <th></th>\n",
       "      <th>Country Code</th>\n",
       "      <th>Country</th>\n",
       "    </tr>\n",
       "  </thead>\n",
       "  <tbody>\n",
       "    <tr>\n",
       "      <th>0</th>\n",
       "      <td>1</td>\n",
       "      <td>India</td>\n",
       "    </tr>\n",
       "    <tr>\n",
       "      <th>1</th>\n",
       "      <td>14</td>\n",
       "      <td>Australia</td>\n",
       "    </tr>\n",
       "    <tr>\n",
       "      <th>2</th>\n",
       "      <td>30</td>\n",
       "      <td>Brazil</td>\n",
       "    </tr>\n",
       "    <tr>\n",
       "      <th>3</th>\n",
       "      <td>37</td>\n",
       "      <td>Canada</td>\n",
       "    </tr>\n",
       "    <tr>\n",
       "      <th>4</th>\n",
       "      <td>94</td>\n",
       "      <td>Indonesia</td>\n",
       "    </tr>\n",
       "  </tbody>\n",
       "</table>\n",
       "</div>"
      ],
      "text/plain": [
       "   Country Code    Country\n",
       "0             1      India\n",
       "1            14  Australia\n",
       "2            30     Brazil\n",
       "3            37     Canada\n",
       "4            94  Indonesia"
      ]
     },
     "execution_count": 32,
     "metadata": {},
     "output_type": "execute_result"
    }
   ],
   "source": [
    "df_countryCode.head()"
   ]
  },
  {
   "cell_type": "code",
   "execution_count": 33,
   "id": "6816b181-8228-48a5-aeb3-d148551f8c01",
   "metadata": {},
   "outputs": [
    {
     "data": {
      "text/plain": [
       "(9551, 17)"
      ]
     },
     "execution_count": 33,
     "metadata": {},
     "output_type": "execute_result"
    }
   ],
   "source": [
    "join_df.shape"
   ]
  },
  {
   "cell_type": "code",
   "execution_count": 34,
   "id": "7ceeffcc-116b-4d95-938b-f33681ea5714",
   "metadata": {},
   "outputs": [],
   "source": [
    "currency_df = join_df.loc[:,['Country Code', 'Currency']]"
   ]
  },
  {
   "cell_type": "code",
   "execution_count": 35,
   "id": "ab4bf3ed-47f6-4e12-a566-666bd822c7f1",
   "metadata": {},
   "outputs": [
    {
     "data": {
      "text/plain": [
       "Country Code  Currency              \n",
       "1             Indian Rupees(Rs.)        8652\n",
       "216           Dollar($)                  434\n",
       "215           Pounds(£)                  80\n",
       "30            Brazilian Real(R$)          60\n",
       "189           Rand(R)                     60\n",
       "214           Emirati Diram(AED)          60\n",
       "148           NewZealand($)               40\n",
       "208           Turkish Lira(TL)            34\n",
       "14            Dollar($)                   24\n",
       "162           Botswana Pula(P)            22\n",
       "94            Indonesian Rupiah(IDR)      21\n",
       "166           Qatari Rial(QR)             20\n",
       "184           Dollar($)                   20\n",
       "191           Sri Lankan Rupee(LKR)       20\n",
       "37            Dollar($)                    4\n",
       "Name: count, dtype: int64"
      ]
     },
     "execution_count": 35,
     "metadata": {},
     "output_type": "execute_result"
    }
   ],
   "source": [
    "currency_df.value_counts()"
   ]
  },
  {
   "cell_type": "code",
   "execution_count": 36,
   "id": "c50183b6-ccbf-4fdd-af16-7dda3b9ae06b",
   "metadata": {},
   "outputs": [
    {
     "data": {
      "text/plain": [
       "Online_Delivery\n",
       "No     7100\n",
       "Yes    2451\n",
       "Name: count, dtype: int64"
      ]
     },
     "execution_count": 36,
     "metadata": {},
     "output_type": "execute_result"
    }
   ],
   "source": [
    "join_df['Online_Delivery'].value_counts()"
   ]
  },
  {
   "cell_type": "code",
   "execution_count": 37,
   "id": "161fc087-7ef1-4db5-beee-053d401e5823",
   "metadata": {},
   "outputs": [
    {
     "data": {
      "text/plain": [
       "Country\n",
       "India             90.587373\n",
       "United States      4.544027\n",
       "United Kingdom     0.837609\n",
       "Brazil             0.628206\n",
       "UAE                0.628206\n",
       "South Africa       0.628206\n",
       "New Zealand        0.418804\n",
       "Turkey             0.355984\n",
       "Australia          0.251283\n",
       "Phillipines        0.230342\n",
       "Indonesia          0.219872\n",
       "Singapore          0.209402\n",
       "Qatar              0.209402\n",
       "Sri Lanka          0.209402\n",
       "Canada             0.041880\n",
       "Name: count, dtype: float64"
      ]
     },
     "execution_count": 37,
     "metadata": {},
     "output_type": "execute_result"
    }
   ],
   "source": [
    "perc_penetration = join_df.Country.value_counts() * 100 / len(join_df['Country'])\n",
    "perc_penetration"
   ]
  },
  {
   "cell_type": "raw",
   "id": "4bbe6c4f-ee1b-4789-b179-ac14c4626d6e",
   "metadata": {},
   "source": []
  },
  {
   "cell_type": "code",
   "execution_count": 38,
   "id": "da6cf159-3aa0-4bb2-bca0-9ea23cb196ad",
   "metadata": {},
   "outputs": [],
   "source": [
    "country_names = join_df.Country.value_counts().index"
   ]
  },
  {
   "cell_type": "code",
   "execution_count": 39,
   "id": "5f33e3fa-9690-4f8f-af08-8264f7bbddb4",
   "metadata": {},
   "outputs": [
    {
     "data": {
      "text/plain": [
       "Index(['India', 'United States', 'United Kingdom', 'Brazil', 'UAE',\n",
       "       'South Africa', 'New Zealand', 'Turkey', 'Australia', 'Phillipines',\n",
       "       'Indonesia', 'Singapore', 'Qatar', 'Sri Lanka', 'Canada'],\n",
       "      dtype='object', name='Country')"
      ]
     },
     "execution_count": 39,
     "metadata": {},
     "output_type": "execute_result"
    }
   ],
   "source": [
    "country_names"
   ]
  },
  {
   "cell_type": "code",
   "execution_count": 40,
   "id": "edef8d3a-af76-44c5-af53-18c02324725a",
   "metadata": {},
   "outputs": [],
   "source": [
    "country_values = join_df.Country.value_counts().values"
   ]
  },
  {
   "cell_type": "code",
   "execution_count": 41,
   "id": "be199638-dfe1-4a67-abf0-83d2d34a37ef",
   "metadata": {},
   "outputs": [
    {
     "data": {
      "text/plain": [
       "array([8652,  434,   80,   60,   60,   60,   40,   34,   24,   22,   21,\n",
       "         20,   20,   20,    4], dtype=int64)"
      ]
     },
     "execution_count": 41,
     "metadata": {},
     "output_type": "execute_result"
    }
   ],
   "source": [
    "country_values"
   ]
  },
  {
   "cell_type": "code",
   "execution_count": 42,
   "id": "57f118e3-31e1-45bb-8c94-ac20955d715f",
   "metadata": {},
   "outputs": [
    {
     "data": {
      "text/plain": [
       "([<matplotlib.patches.Wedge at 0x25979e8d580>,\n",
       "  <matplotlib.patches.Wedge at 0x25979df2060>,\n",
       "  <matplotlib.patches.Wedge at 0x25979f08260>],\n",
       " [Text(-1.0829742700952103, 0.19278674827836725, 'India'),\n",
       "  Text(1.077281715838356, -0.22240527134123297, 'United States'),\n",
       "  Text(1.0995865153823035, -0.03015783794312073, 'United Kingdom')],\n",
       " [Text(-0.590713238233751, 0.10515640815183668, '94.392%'),\n",
       "  Text(0.5876082086391032, -0.12131196618612707, '4.735%'),\n",
       "  Text(0.5997744629358018, -0.01644972978715676, '0.873%')])"
      ]
     },
     "execution_count": 42,
     "metadata": {},
     "output_type": "execute_result"
    },
    {
     "data": {
      "image/png": "[encoded data removed]",
      "text/plain": [
       "<Figure size 640x480 with 1 Axes>"
      ]
     },
     "metadata": {},
     "output_type": "display_data"
    }
   ],
   "source": [
    "plt.pie(country_values[:3], labels = country_names[:3], autopct = '%1.3f%%')"
   ]
  },
  {
   "cell_type": "code",
   "execution_count": 43,
   "id": "07122dfc-da0a-43f7-a1be-9a72a9120810",
   "metadata": {},
   "outputs": [
    {
     "data": {
      "text/plain": [
       "<bound method Series.reset_index of Country         Online_Delivery\n",
       "Australia       No                   24\n",
       "Brazil          No                   60\n",
       "Canada          No                    4\n",
       "India           No                 6229\n",
       "                Yes                2423\n",
       "Indonesia       No                   21\n",
       "New Zealand     No                   40\n",
       "Phillipines     No                   22\n",
       "Qatar           No                   20\n",
       "Singapore       No                   20\n",
       "South Africa    No                   60\n",
       "Sri Lanka       No                   20\n",
       "Turkey          No                   34\n",
       "UAE             No                   32\n",
       "                Yes                  28\n",
       "United Kingdom  No                   80\n",
       "United States   No                  434\n",
       "dtype: int64>"
      ]
     },
     "execution_count": 43,
     "metadata": {},
     "output_type": "execute_result"
    }
   ],
   "source": [
    "join_df.groupby(['Country', 'Online_Delivery']).size().reset_index"
   ]
  },
  {
   "cell_type": "code",
   "execution_count": 44,
   "id": "db9714c0-82d3-480d-904a-483ff776695d",
   "metadata": {},
   "outputs": [
    {
     "data": {
      "text/plain": [
       "Country\n",
       "India    2423\n",
       "UAE        28\n",
       "Name: count, dtype: int64"
      ]
     },
     "execution_count": 44,
     "metadata": {},
     "output_type": "execute_result"
    }
   ],
   "source": [
    "join_df[join_df['Online_Delivery'] == 'Yes'].Country.value_counts()"
   ]
  },
  {
   "cell_type": "code",
   "execution_count": 45,
   "id": "eaea8289-0fb7-498a-bbf3-bc9760690f5b",
   "metadata": {},
   "outputs": [
    {
     "data": {
      "text/plain": [
       "Country\n",
       "India             6229\n",
       "United States      434\n",
       "United Kingdom      80\n",
       "Brazil              60\n",
       "South Africa        60\n",
       "New Zealand         40\n",
       "Turkey              34\n",
       "UAE                 32\n",
       "Australia           24\n",
       "Phillipines         22\n",
       "Indonesia           21\n",
       "Singapore           20\n",
       "Qatar               20\n",
       "Sri Lanka           20\n",
       "Canada               4\n",
       "Name: count, dtype: int64"
      ]
     },
     "execution_count": 45,
     "metadata": {},
     "output_type": "execute_result"
    }
   ],
   "source": [
    "join_df[join_df['Online_Delivery'] == 'No'].Country.value_counts()"
   ]
  },
  {
   "cell_type": "code",
   "execution_count": 46,
   "id": "d9201313-6e5b-475c-9e0c-5f3ed0891fa6",
   "metadata": {},
   "outputs": [
    {
     "data": {
      "text/plain": [
       "Country  Currency          \n",
       "India    Indian Rupees(Rs.)    2423\n",
       "UAE      Emirati Diram(AED)      28\n",
       "Name: count, dtype: int64"
      ]
     },
     "execution_count": 46,
     "metadata": {},
     "output_type": "execute_result"
    }
   ],
   "source": [
    "join_df.loc[join_df['Online_Delivery'] == \"Yes\", ['Country', 'Currency']].value_counts()"
   ]
  },
  {
   "cell_type": "code",
   "execution_count": 47,
   "id": "a755d5f1-aeab-46b2-ac23-9c15f0b408b5",
   "metadata": {},
   "outputs": [],
   "source": [
    "Indian_cities = join_df[join_df['Country'] == 'India']"
   ]
  },
  {
   "cell_type": "code",
   "execution_count": 48,
   "id": "5b7049f4-02f4-4ced-a024-60335c0e3d6b",
   "metadata": {},
   "outputs": [
    {
     "data": {
      "text/html": [
       "<div>\n",
       "<style scoped>\n",
       "    .dataframe tbody tr th:only-of-type {\n",
       "        vertical-align: middle;\n",
       "    }\n",
       "\n",
       "    .dataframe tbody tr th {\n",
       "        vertical-align: top;\n",
       "    }\n",
       "\n",
       "    .dataframe thead th {\n",
       "        text-align: right;\n",
       "    }\n",
       "</style>\n",
       "<table border=\"1\" class=\"dataframe\">\n",
       "  <thead>\n",
       "    <tr style=\"text-align: right;\">\n",
       "      <th></th>\n",
       "      <th>Restaurant Name</th>\n",
       "      <th>Country Code</th>\n",
       "      <th>City</th>\n",
       "      <th>Locality</th>\n",
       "      <th>Cuisines</th>\n",
       "      <th>Avg_Cost</th>\n",
       "      <th>Currency</th>\n",
       "      <th>Accepts_Table_Booking</th>\n",
       "      <th>Online_Delivery</th>\n",
       "      <th>Is delivering now</th>\n",
       "      <th>Switch to order menu</th>\n",
       "      <th>Price range</th>\n",
       "      <th>Aggregate_Rating</th>\n",
       "      <th>Rating_Schema</th>\n",
       "      <th>Rating</th>\n",
       "      <th>Votes</th>\n",
       "      <th>Country</th>\n",
       "    </tr>\n",
       "  </thead>\n",
       "  <tbody>\n",
       "    <tr>\n",
       "      <th>624</th>\n",
       "      <td>Jahanpanah</td>\n",
       "      <td>1</td>\n",
       "      <td>Agra</td>\n",
       "      <td>Agra Cantt</td>\n",
       "      <td>North Indian, Mughlai</td>\n",
       "      <td>850</td>\n",
       "      <td>Indian Rupees(Rs.)</td>\n",
       "      <td>No</td>\n",
       "      <td>No</td>\n",
       "      <td>No</td>\n",
       "      <td>No</td>\n",
       "      <td>3</td>\n",
       "      <td>3.9</td>\n",
       "      <td>Yellow</td>\n",
       "      <td>Good</td>\n",
       "      <td>140</td>\n",
       "      <td>India</td>\n",
       "    </tr>\n",
       "    <tr>\n",
       "      <th>625</th>\n",
       "      <td>Rangrezz Restaurant</td>\n",
       "      <td>1</td>\n",
       "      <td>Agra</td>\n",
       "      <td>Agra Cantt</td>\n",
       "      <td>North Indian, Mughlai</td>\n",
       "      <td>700</td>\n",
       "      <td>Indian Rupees(Rs.)</td>\n",
       "      <td>No</td>\n",
       "      <td>No</td>\n",
       "      <td>No</td>\n",
       "      <td>No</td>\n",
       "      <td>2</td>\n",
       "      <td>3.5</td>\n",
       "      <td>Yellow</td>\n",
       "      <td>Good</td>\n",
       "      <td>71</td>\n",
       "      <td>India</td>\n",
       "    </tr>\n",
       "    <tr>\n",
       "      <th>626</th>\n",
       "      <td>Time2Eat - Mama Chicken</td>\n",
       "      <td>1</td>\n",
       "      <td>Agra</td>\n",
       "      <td>Agra Cantt</td>\n",
       "      <td>North Indian</td>\n",
       "      <td>500</td>\n",
       "      <td>Indian Rupees(Rs.)</td>\n",
       "      <td>No</td>\n",
       "      <td>No</td>\n",
       "      <td>No</td>\n",
       "      <td>No</td>\n",
       "      <td>2</td>\n",
       "      <td>3.6</td>\n",
       "      <td>Yellow</td>\n",
       "      <td>Good</td>\n",
       "      <td>94</td>\n",
       "      <td>India</td>\n",
       "    </tr>\n",
       "    <tr>\n",
       "      <th>627</th>\n",
       "      <td>Chokho Jeeman Marwari Jain Bhojanalya</td>\n",
       "      <td>1</td>\n",
       "      <td>Agra</td>\n",
       "      <td>Civil Lines</td>\n",
       "      <td>Rajasthani</td>\n",
       "      <td>400</td>\n",
       "      <td>Indian Rupees(Rs.)</td>\n",
       "      <td>No</td>\n",
       "      <td>No</td>\n",
       "      <td>No</td>\n",
       "      <td>No</td>\n",
       "      <td>2</td>\n",
       "      <td>4.0</td>\n",
       "      <td>Green</td>\n",
       "      <td>Very Good</td>\n",
       "      <td>87</td>\n",
       "      <td>India</td>\n",
       "    </tr>\n",
       "    <tr>\n",
       "      <th>628</th>\n",
       "      <td>Pinch Of Spice</td>\n",
       "      <td>1</td>\n",
       "      <td>Agra</td>\n",
       "      <td>Civil Lines</td>\n",
       "      <td>North Indian, Chinese, Mughlai</td>\n",
       "      <td>1000</td>\n",
       "      <td>Indian Rupees(Rs.)</td>\n",
       "      <td>No</td>\n",
       "      <td>No</td>\n",
       "      <td>No</td>\n",
       "      <td>No</td>\n",
       "      <td>3</td>\n",
       "      <td>4.2</td>\n",
       "      <td>Green</td>\n",
       "      <td>Very Good</td>\n",
       "      <td>177</td>\n",
       "      <td>India</td>\n",
       "    </tr>\n",
       "    <tr>\n",
       "      <th>...</th>\n",
       "      <td>...</td>\n",
       "      <td>...</td>\n",
       "      <td>...</td>\n",
       "      <td>...</td>\n",
       "      <td>...</td>\n",
       "      <td>...</td>\n",
       "      <td>...</td>\n",
       "      <td>...</td>\n",
       "      <td>...</td>\n",
       "      <td>...</td>\n",
       "      <td>...</td>\n",
       "      <td>...</td>\n",
       "      <td>...</td>\n",
       "      <td>...</td>\n",
       "      <td>...</td>\n",
       "      <td>...</td>\n",
       "      <td>...</td>\n",
       "    </tr>\n",
       "    <tr>\n",
       "      <th>9271</th>\n",
       "      <td>D Cabana</td>\n",
       "      <td>1</td>\n",
       "      <td>Vizag</td>\n",
       "      <td>Sagar Nagar</td>\n",
       "      <td>Continental, Seafood, Chinese, North Indian, B...</td>\n",
       "      <td>600</td>\n",
       "      <td>Indian Rupees(Rs.)</td>\n",
       "      <td>No</td>\n",
       "      <td>No</td>\n",
       "      <td>No</td>\n",
       "      <td>No</td>\n",
       "      <td>2</td>\n",
       "      <td>3.6</td>\n",
       "      <td>Yellow</td>\n",
       "      <td>Good</td>\n",
       "      <td>193</td>\n",
       "      <td>India</td>\n",
       "    </tr>\n",
       "    <tr>\n",
       "      <th>9272</th>\n",
       "      <td>Kaloreez</td>\n",
       "      <td>1</td>\n",
       "      <td>Vizag</td>\n",
       "      <td>Siripuram</td>\n",
       "      <td>Cafe, North Indian, Chinese</td>\n",
       "      <td>400</td>\n",
       "      <td>Indian Rupees(Rs.)</td>\n",
       "      <td>No</td>\n",
       "      <td>No</td>\n",
       "      <td>No</td>\n",
       "      <td>No</td>\n",
       "      <td>2</td>\n",
       "      <td>3.7</td>\n",
       "      <td>Yellow</td>\n",
       "      <td>Good</td>\n",
       "      <td>85</td>\n",
       "      <td>India</td>\n",
       "    </tr>\n",
       "    <tr>\n",
       "      <th>9273</th>\n",
       "      <td>Plot 17</td>\n",
       "      <td>1</td>\n",
       "      <td>Vizag</td>\n",
       "      <td>Siripuram</td>\n",
       "      <td>Burger, Pizza, Biryani</td>\n",
       "      <td>600</td>\n",
       "      <td>Indian Rupees(Rs.)</td>\n",
       "      <td>No</td>\n",
       "      <td>No</td>\n",
       "      <td>No</td>\n",
       "      <td>No</td>\n",
       "      <td>2</td>\n",
       "      <td>4.3</td>\n",
       "      <td>Green</td>\n",
       "      <td>Very Good</td>\n",
       "      <td>172</td>\n",
       "      <td>India</td>\n",
       "    </tr>\n",
       "    <tr>\n",
       "      <th>9274</th>\n",
       "      <td>Vista - The Park</td>\n",
       "      <td>1</td>\n",
       "      <td>Vizag</td>\n",
       "      <td>The Park, Lawsons Bay</td>\n",
       "      <td>American, North Indian, Thai, Continental</td>\n",
       "      <td>1500</td>\n",
       "      <td>Indian Rupees(Rs.)</td>\n",
       "      <td>No</td>\n",
       "      <td>No</td>\n",
       "      <td>No</td>\n",
       "      <td>No</td>\n",
       "      <td>4</td>\n",
       "      <td>3.8</td>\n",
       "      <td>Yellow</td>\n",
       "      <td>Good</td>\n",
       "      <td>74</td>\n",
       "      <td>India</td>\n",
       "    </tr>\n",
       "    <tr>\n",
       "      <th>9275</th>\n",
       "      <td>Flying Spaghetti Monster</td>\n",
       "      <td>1</td>\n",
       "      <td>Vizag</td>\n",
       "      <td>Waltair Uplands</td>\n",
       "      <td>Italian</td>\n",
       "      <td>1400</td>\n",
       "      <td>Indian Rupees(Rs.)</td>\n",
       "      <td>No</td>\n",
       "      <td>No</td>\n",
       "      <td>No</td>\n",
       "      <td>No</td>\n",
       "      <td>3</td>\n",
       "      <td>4.4</td>\n",
       "      <td>Green</td>\n",
       "      <td>Very Good</td>\n",
       "      <td>316</td>\n",
       "      <td>India</td>\n",
       "    </tr>\n",
       "  </tbody>\n",
       "</table>\n",
       "<p>8652 rows × 17 columns</p>\n",
       "</div>"
      ],
      "text/plain": [
       "                            Restaurant Name  Country Code   City  \\\n",
       "624                              Jahanpanah             1   Agra   \n",
       "625                     Rangrezz Restaurant             1   Agra   \n",
       "626                 Time2Eat - Mama Chicken             1   Agra   \n",
       "627   Chokho Jeeman Marwari Jain Bhojanalya             1   Agra   \n",
       "628                          Pinch Of Spice             1   Agra   \n",
       "...                                     ...           ...    ...   \n",
       "9271                               D Cabana             1  Vizag   \n",
       "9272                               Kaloreez             1  Vizag   \n",
       "9273                                Plot 17             1  Vizag   \n",
       "9274                       Vista - The Park             1  Vizag   \n",
       "9275               Flying Spaghetti Monster             1  Vizag   \n",
       "\n",
       "                   Locality  \\\n",
       "624              Agra Cantt   \n",
       "625              Agra Cantt   \n",
       "626              Agra Cantt   \n",
       "627             Civil Lines   \n",
       "628             Civil Lines   \n",
       "...                     ...   \n",
       "9271            Sagar Nagar   \n",
       "9272              Siripuram   \n",
       "9273              Siripuram   \n",
       "9274  The Park, Lawsons Bay   \n",
       "9275        Waltair Uplands   \n",
       "\n",
       "                                               Cuisines  Avg_Cost  \\\n",
       "624                               North Indian, Mughlai       850   \n",
       "625                               North Indian, Mughlai       700   \n",
       "626                                        North Indian       500   \n",
       "627                                          Rajasthani       400   \n",
       "628                      North Indian, Chinese, Mughlai      1000   \n",
       "...                                                 ...       ...   \n",
       "9271  Continental, Seafood, Chinese, North Indian, B...       600   \n",
       "9272                        Cafe, North Indian, Chinese       400   \n",
       "9273                             Burger, Pizza, Biryani       600   \n",
       "9274          American, North Indian, Thai, Continental      1500   \n",
       "9275                                            Italian      1400   \n",
       "\n",
       "                Currency Accepts_Table_Booking Online_Delivery  \\\n",
       "624   Indian Rupees(Rs.)                    No              No   \n",
       "625   Indian Rupees(Rs.)                    No              No   \n",
       "626   Indian Rupees(Rs.)                    No              No   \n",
       "627   Indian Rupees(Rs.)                    No              No   \n",
       "628   Indian Rupees(Rs.)                    No              No   \n",
       "...                  ...                   ...             ...   \n",
       "9271  Indian Rupees(Rs.)                    No              No   \n",
       "9272  Indian Rupees(Rs.)                    No              No   \n",
       "9273  Indian Rupees(Rs.)                    No              No   \n",
       "9274  Indian Rupees(Rs.)                    No              No   \n",
       "9275  Indian Rupees(Rs.)                    No              No   \n",
       "\n",
       "     Is delivering now Switch to order menu  Price range  Aggregate_Rating  \\\n",
       "624                 No                   No            3               3.9   \n",
       "625                 No                   No            2               3.5   \n",
       "626                 No                   No            2               3.6   \n",
       "627                 No                   No            2               4.0   \n",
       "628                 No                   No            3               4.2   \n",
       "...                ...                  ...          ...               ...   \n",
       "9271                No                   No            2               3.6   \n",
       "9272                No                   No            2               3.7   \n",
       "9273                No                   No            2               4.3   \n",
       "9274                No                   No            4               3.8   \n",
       "9275                No                   No            3               4.4   \n",
       "\n",
       "     Rating_Schema     Rating  Votes Country  \n",
       "624         Yellow       Good    140   India  \n",
       "625         Yellow       Good     71   India  \n",
       "626         Yellow       Good     94   India  \n",
       "627          Green  Very Good     87   India  \n",
       "628          Green  Very Good    177   India  \n",
       "...            ...        ...    ...     ...  \n",
       "9271        Yellow       Good    193   India  \n",
       "9272        Yellow       Good     85   India  \n",
       "9273         Green  Very Good    172   India  \n",
       "9274        Yellow       Good     74   India  \n",
       "9275         Green  Very Good    316   India  \n",
       "\n",
       "[8652 rows x 17 columns]"
      ]
     },
     "execution_count": 48,
     "metadata": {},
     "output_type": "execute_result"
    }
   ],
   "source": [
    "Indian_cities"
   ]
  },
  {
   "cell_type": "code",
   "execution_count": 49,
   "id": "492669ff-763e-4662-948d-9a9179b092ec",
   "metadata": {},
   "outputs": [
    {
     "data": {
      "text/plain": [
       "(8652, 17)"
      ]
     },
     "execution_count": 49,
     "metadata": {},
     "output_type": "execute_result"
    }
   ],
   "source": [
    "Indian_cities.shape"
   ]
  },
  {
   "cell_type": "code",
   "execution_count": 50,
   "id": "45ae87c1-b3eb-4ac4-9c48-1e4da26a9ace",
   "metadata": {},
   "outputs": [
    {
     "data": {
      "text/plain": [
       "899"
      ]
     },
     "execution_count": 50,
     "metadata": {},
     "output_type": "execute_result"
    }
   ],
   "source": [
    "9551-8652"
   ]
  },
  {
   "cell_type": "code",
   "execution_count": 51,
   "id": "c6c7b0c8-13e5-44e8-b57d-a531f4c4991c",
   "metadata": {},
   "outputs": [],
   "source": [
    "City_Count = Indian_cities['City'].value_counts()"
   ]
  },
  {
   "cell_type": "code",
   "execution_count": 52,
   "id": "7f87c1ca-f7b3-4307-9ec6-15f7266ee013",
   "metadata": {},
   "outputs": [
    {
     "data": {
      "text/plain": [
       "City\n",
       "New Delhi       5473\n",
       "Gurgaon         1118\n",
       "Noida           1080\n",
       "Faridabad        251\n",
       "Ghaziabad         25\n",
       "Ahmedabad         21\n",
       "Guwahati          21\n",
       "Lucknow           21\n",
       "Bhubaneshwar      21\n",
       "Amritsar          21\n",
       "Pune              20\n",
       "Puducherry        20\n",
       "Patna             20\n",
       "Ludhiana          20\n",
       "Ranchi            20\n",
       "Surat             20\n",
       "Vadodara          20\n",
       "Nashik            20\n",
       "Nagpur            20\n",
       "Mysore            20\n",
       "Mumbai            20\n",
       "Varanasi          20\n",
       "Mangalore         20\n",
       "Agra              20\n",
       "Kochi             20\n",
       "Kolkata           20\n",
       "Dehradun          20\n",
       "Allahabad         20\n",
       "Aurangabad        20\n",
       "Bangalore         20\n",
       "Bhopal            20\n",
       "Chennai           20\n",
       "Coimbatore        20\n",
       "Goa               20\n",
       "Indore            20\n",
       "Jaipur            20\n",
       "Kanpur            20\n",
       "Vizag             20\n",
       "Chandigarh        18\n",
       "Hyderabad         18\n",
       "Secunderabad       2\n",
       "Panchkula          1\n",
       "Mohali             1\n",
       "Name: count, dtype: int64"
      ]
     },
     "execution_count": 52,
     "metadata": {},
     "output_type": "execute_result"
    }
   ],
   "source": [
    "City_Count"
   ]
  },
  {
   "cell_type": "code",
   "execution_count": 53,
   "id": "063ec72f-3b8e-4352-b80e-b3de88d42477",
   "metadata": {},
   "outputs": [
    {
     "data": {
      "text/plain": [
       "City\n",
       "New Delhi    5473\n",
       "Gurgaon      1118\n",
       "Noida        1080\n",
       "Name: count, dtype: int64"
      ]
     },
     "execution_count": 53,
     "metadata": {},
     "output_type": "execute_result"
    }
   ],
   "source": [
    "City_Count[:3]"
   ]
  },
  {
   "cell_type": "code",
   "execution_count": 54,
   "id": "a67c2ddb-5ce0-450b-931a-c897e673e916",
   "metadata": {},
   "outputs": [
    {
     "data": {
      "text/plain": [
       "([<matplotlib.patches.Wedge at 0x2597b0c4b60>,\n",
       "  <matplotlib.patches.Wedge at 0x25979e8fb00>,\n",
       "  <matplotlib.patches.Wedge at 0x2597b0c5220>],\n",
       " [Text(-0.6836225695617262, 0.8617773392157762, 'New Delhi'),\n",
       "  Text(0.24897482286810813, -1.0714530029720364, 'Gurgaon'),\n",
       "  Text(0.9941442744692855, -0.47082604169686504, 'Noida')],\n",
       " [Text(-0.37288503794275973, 0.47006036684496877, '71.35%'),\n",
       "  Text(0.13580444883714987, -0.5844289107120197, '14.57%'),\n",
       "  Text(0.542260513346883, -0.25681420456192633, '14.08%')])"
      ]
     },
     "execution_count": 54,
     "metadata": {},
     "output_type": "execute_result"
    },
    {
     "data": {
      "image/png": "[encoded data removed]",
      "text/plain": [
       "<Figure size 640x480 with 1 Axes>"
      ]
     },
     "metadata": {},
     "output_type": "display_data"
    }
   ],
   "source": [
    "plt.pie(City_Count.values[:3],labels = City_Count.index[:3],autopct ='%1.2f%%',colors = ['orange', 'red', 'green'])"
   ]
  },
  {
   "cell_type": "code",
   "execution_count": 55,
   "id": "25f9fcff-6479-409b-afd8-23a28604c69d",
   "metadata": {},
   "outputs": [
    {
     "name": "stderr",
     "output_type": "stream",
     "text": [
      "C:\\Users\\himan\\AppData\\Local\\Temp\\ipykernel_2424\\55582762.py:1: FutureWarning: \n",
      "\n",
      "Passing `palette` without assigning `hue` is deprecated and will be removed in v0.14.0. Assign the `y` variable to `hue` and set `legend=False` for the same effect.\n",
      "\n",
      "  sns.countplot(join_df['Rating_Schema'],\n"
     ]
    },
    {
     "data": {
      "text/plain": [
       "[]"
      ]
     },
     "execution_count": 55,
     "metadata": {},
     "output_type": "execute_result"
    },
    {
     "data": {
      "image/png": "[encoded data removed]",
      "text/plain": [
       "<Figure size 640x480 with 1 Axes>"
      ]
     },
     "metadata": {},
     "output_type": "display_data"
    }
   ],
   "source": [
    "sns.countplot(join_df['Rating_Schema'],\n",
    "              palette = ['green','lightgreen','yellow','orange','gray','red'])\n",
    "plt.title('Rating_Schema_Zomato')\n",
    "plt.plot()"
   ]
  },
  {
   "cell_type": "code",
   "execution_count": 56,
   "id": "c977dda4-3e37-4b72-9a9c-0a0664ac751c",
   "metadata": {},
   "outputs": [
    {
     "data": {
      "text/html": [
       "<div>\n",
       "<style scoped>\n",
       "    .dataframe tbody tr th:only-of-type {\n",
       "        vertical-align: middle;\n",
       "    }\n",
       "\n",
       "    .dataframe tbody tr th {\n",
       "        vertical-align: top;\n",
       "    }\n",
       "\n",
       "    .dataframe thead tr th {\n",
       "        text-align: left;\n",
       "    }\n",
       "\n",
       "    .dataframe thead tr:last-of-type th {\n",
       "        text-align: right;\n",
       "    }\n",
       "</style>\n",
       "<table border=\"1\" class=\"dataframe\">\n",
       "  <thead>\n",
       "    <tr>\n",
       "      <th></th>\n",
       "      <th colspan=\"2\" halign=\"left\">Aggregate_Rating</th>\n",
       "      <th colspan=\"2\" halign=\"left\">Rating</th>\n",
       "    </tr>\n",
       "    <tr>\n",
       "      <th></th>\n",
       "      <th>min</th>\n",
       "      <th>max</th>\n",
       "      <th>min</th>\n",
       "      <th>max</th>\n",
       "    </tr>\n",
       "    <tr>\n",
       "      <th>Rating_Schema</th>\n",
       "      <th></th>\n",
       "      <th></th>\n",
       "      <th></th>\n",
       "      <th></th>\n",
       "    </tr>\n",
       "  </thead>\n",
       "  <tbody>\n",
       "    <tr>\n",
       "      <th>Dark Green</th>\n",
       "      <td>4.5</td>\n",
       "      <td>4.9</td>\n",
       "      <td>Excellent</td>\n",
       "      <td>Excellent</td>\n",
       "    </tr>\n",
       "    <tr>\n",
       "      <th>Green</th>\n",
       "      <td>4.0</td>\n",
       "      <td>4.4</td>\n",
       "      <td>Very Good</td>\n",
       "      <td>Very Good</td>\n",
       "    </tr>\n",
       "    <tr>\n",
       "      <th>Orange</th>\n",
       "      <td>2.5</td>\n",
       "      <td>3.4</td>\n",
       "      <td>Average</td>\n",
       "      <td>Average</td>\n",
       "    </tr>\n",
       "    <tr>\n",
       "      <th>Red</th>\n",
       "      <td>1.8</td>\n",
       "      <td>2.4</td>\n",
       "      <td>Poor</td>\n",
       "      <td>Poor</td>\n",
       "    </tr>\n",
       "    <tr>\n",
       "      <th>White</th>\n",
       "      <td>0.0</td>\n",
       "      <td>0.0</td>\n",
       "      <td>Not rated</td>\n",
       "      <td>Not rated</td>\n",
       "    </tr>\n",
       "    <tr>\n",
       "      <th>Yellow</th>\n",
       "      <td>3.5</td>\n",
       "      <td>3.9</td>\n",
       "      <td>Good</td>\n",
       "      <td>Good</td>\n",
       "    </tr>\n",
       "  </tbody>\n",
       "</table>\n",
       "</div>"
      ],
      "text/plain": [
       "              Aggregate_Rating          Rating           \n",
       "                           min  max        min        max\n",
       "Rating_Schema                                            \n",
       "Dark Green                 4.5  4.9  Excellent  Excellent\n",
       "Green                      4.0  4.4  Very Good  Very Good\n",
       "Orange                     2.5  3.4    Average    Average\n",
       "Red                        1.8  2.4       Poor       Poor\n",
       "White                      0.0  0.0  Not rated  Not rated\n",
       "Yellow                     3.5  3.9       Good       Good"
      ]
     },
     "execution_count": 56,
     "metadata": {},
     "output_type": "execute_result"
    }
   ],
   "source": [
    "result_rating"
   ]
  },
  {
   "cell_type": "code",
   "execution_count": 57,
   "id": "6cfc7943-71be-4749-a07e-c1a99a480c7e",
   "metadata": {},
   "outputs": [
    {
     "data": {
      "text/plain": [
       "20.940215684221545"
      ]
     },
     "execution_count": 57,
     "metadata": {},
     "output_type": "execute_result"
    }
   ],
   "source": [
    "2000/9551 *100"
   ]
  },
  {
   "cell_type": "code",
   "execution_count": 58,
   "id": "afb27c67-1fae-4d42-8668-467fc7570cef",
   "metadata": {},
   "outputs": [
    {
     "name": "stderr",
     "output_type": "stream",
     "text": [
      "C:\\Users\\himan\\AppData\\Local\\Temp\\ipykernel_2424\\2364776246.py:1: FutureWarning: \n",
      "\n",
      "Passing `palette` without assigning `hue` is deprecated and will be removed in v0.14.0. Assign the `y` variable to `hue` and set `legend=False` for the same effect.\n",
      "\n",
      "  sns.countplot(join_df['Accepts_Table_Booking'],\n"
     ]
    },
    {
     "data": {
      "text/plain": [
       "[]"
      ]
     },
     "execution_count": 58,
     "metadata": {},
     "output_type": "execute_result"
    },
    {
     "data": {
      "image/png": "[encoded data removed]",
      "text/plain": [
       "<Figure size 640x480 with 1 Axes>"
      ]
     },
     "metadata": {},
     "output_type": "display_data"
    }
   ],
   "source": [
    "sns.countplot(join_df['Accepts_Table_Booking'],\n",
    "              palette = ['orange','red'])\n",
    "plt.title('Accepts_Table_Booking_Zomato')\n",
    "plt.plot()"
   ]
  },
  {
   "cell_type": "code",
   "execution_count": 59,
   "id": "815e90e2-7842-4b04-acfb-23d651157148",
   "metadata": {},
   "outputs": [
    {
     "data": {
      "text/plain": [
       "Country\n",
       "Indonesia         281190.0\n",
       "Sri Lanka           2375.0\n",
       "Phillipines         1607.0\n",
       "India                623.0\n",
       "South Africa         420.0\n",
       "Qatar                224.0\n",
       "UAE                  166.0\n",
       "Singapore            156.0\n",
       "Brazil               135.0\n",
       "Turkey                85.0\n",
       "New Zealand           70.0\n",
       "United Kingdom        48.0\n",
       "Canada                36.0\n",
       "United States         26.0\n",
       "Australia             24.0\n",
       "Name: Avg_Cost, dtype: float64"
      ]
     },
     "execution_count": 59,
     "metadata": {},
     "output_type": "execute_result"
    }
   ],
   "source": [
    "join_df.groupby('Country')['Avg_Cost'].mean().sort_values(ascending=False).round(0)"
   ]
  },
  {
   "cell_type": "code",
   "execution_count": 60,
   "id": "33691696-5eea-4f93-8208-834dd27cebce",
   "metadata": {},
   "outputs": [
    {
     "data": {
      "text/plain": [
       "Country\n",
       "Indonesia         281190.476190\n",
       "Sri Lanka           2375.000000\n",
       "Phillipines         1606.818182\n",
       "India                623.370319\n",
       "South Africa         419.733333\n",
       "Qatar                223.750000\n",
       "UAE                  166.416667\n",
       "Singapore            155.750000\n",
       "Brazil               134.666667\n",
       "Turkey                84.852941\n",
       "New Zealand           69.750000\n",
       "United Kingdom        47.812500\n",
       "Canada                36.250000\n",
       "United States         26.152074\n",
       "Australia             24.083333\n",
       "Name: Avg_Cost, dtype: float64"
      ]
     },
     "execution_count": 60,
     "metadata": {},
     "output_type": "execute_result"
    }
   ],
   "source": [
    "join_df.groupby('Country')['Avg_Cost'].mean().sort_values(ascending=False)"
   ]
  },
  {
   "cell_type": "code",
   "execution_count": 61,
   "id": "a072af80-6428-4840-bc53-cfda7eb45394",
   "metadata": {},
   "outputs": [
    {
     "data": {
      "text/plain": [
       "City\n",
       "Varanasi     505.000000\n",
       "Amritsar     480.952381\n",
       "Faridabad    447.609562\n",
       "Name: Avg_Cost, dtype: float64"
      ]
     },
     "execution_count": 61,
     "metadata": {},
     "output_type": "execute_result"
    }
   ],
   "source": [
    "Indian_cities.groupby('City')['Avg_Cost'].mean().sort_values(ascending=False)[-3:]"
   ]
  },
  {
   "cell_type": "code",
   "execution_count": 62,
   "id": "c9837ec8-8591-4b42-97ea-c3dfaa5894fc",
   "metadata": {},
   "outputs": [
    {
     "data": {
      "text/plain": [
       "City\n",
       "Panchkula       2000.000000\n",
       "Hyderabad       1361.111111\n",
       "Pune            1337.500000\n",
       "Jaipur          1310.000000\n",
       "Kolkata         1272.500000\n",
       "Bangalore       1232.500000\n",
       "Goa             1175.000000\n",
       "Ludhiana        1160.000000\n",
       "Chennai         1085.000000\n",
       "Mumbai          1072.500000\n",
       "Chandigarh      1072.222222\n",
       "Agra            1065.000000\n",
       "Indore           960.000000\n",
       "Kanpur           915.000000\n",
       "Lucknow          859.523810\n",
       "Ahmedabad        857.142857\n",
       "Puducherry       842.500000\n",
       "Secunderabad     825.000000\n",
       "Guwahati         821.428571\n",
       "Vadodara         820.000000\n",
       "Mysore           814.500000\n",
       "Surat            812.500000\n",
       "Patna            797.500000\n",
       "Mangalore        782.500000\n",
       "Coimbatore       782.500000\n",
       "Vizag            780.000000\n",
       "Ranchi           735.000000\n",
       "Kochi            730.000000\n",
       "Dehradun         727.500000\n",
       "Nagpur           715.000000\n",
       "Gurgaon          714.016100\n",
       "Bhubaneshwar     678.571429\n",
       "Nashik           662.500000\n",
       "Aurangabad       622.500000\n",
       "Bhopal           620.000000\n",
       "Ghaziabad        602.000000\n",
       "New Delhi        596.088069\n",
       "Mohali           550.000000\n",
       "Noida            539.490741\n",
       "Allahabad        517.500000\n",
       "Varanasi         505.000000\n",
       "Amritsar         480.952381\n",
       "Faridabad        447.609562\n",
       "Name: Avg_Cost, dtype: float64"
      ]
     },
     "execution_count": 62,
     "metadata": {},
     "output_type": "execute_result"
    }
   ],
   "source": [
    "Indian_cities.groupby('City')['Avg_Cost'].mean().sort_values(ascending=False)"
   ]
  },
  {
   "cell_type": "code",
   "execution_count": 63,
   "id": "20b56d1d-b430-40fe-945f-11ff5296926c",
   "metadata": {},
   "outputs": [
    {
     "name": "stderr",
     "output_type": "stream",
     "text": [
      "C:\\Users\\himan\\AppData\\Local\\Temp\\ipykernel_2424\\2870627120.py:1: FutureWarning: \n",
      "\n",
      "Passing `palette` without assigning `hue` is deprecated and will be removed in v0.14.0. Assign the `x` variable to `hue` and set `legend=False` for the same effect.\n",
      "\n",
      "  sns.countplot(x='Price range', data=join_df, palette='rocket_r')\n"
     ]
    },
    {
     "data": {
      "image/png": "[encoded data removed]",
      "text/plain": [
       "<Figure size 640x480 with 1 Axes>"
      ]
     },
     "metadata": {},
     "output_type": "display_data"
    }
   ],
   "source": [
    "sns.countplot(x='Price range', data=join_df, palette='rocket_r')\n",
    "plt.title('Price_Range_Zomato')\n",
    "plt.xlabel('Price Range')\n",
    "plt.ylabel('Count')\n",
    "plt.show()"
   ]
  },
  {
   "cell_type": "code",
   "execution_count": null,
   "id": "4976064c-97a3-46ac-9f63-2c495abf5ea1",
   "metadata": {},
   "outputs": [],
   "source": []
  },
  {
   "cell_type": "code",
   "execution_count": null,
   "id": "f632a676-562c-4600-9850-52991d44d581",
   "metadata": {},
   "outputs": [],
   "source": [
    "#1- Low rates\n",
    "2 - avg rates\n",
    "3 - high rates\n",
    "4 - very high,very expensive"
   ]
  }
 ],
 "metadata": {
  "kernelspec": {
   "display_name": "Python 3 (ipykernel)",
   "language": "python",
   "name": "python3"
  },
  "language_info": {
   "codemirror_mode": {
    "name": "ipython",
    "version": 3
   },
   "file_extension": ".py",
   "mimetype": "text/x-python",
   "name": "python",
   "nbconvert_exporter": "python",
   "pygments_lexer": "ipython3",
   "version": "3.12.7"
  }
 },
 "nbformat": 4,
 "nbformat_minor": 5
}
